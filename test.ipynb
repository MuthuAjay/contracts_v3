{
 "cells": [
  {
   "cell_type": "code",
   "execution_count": 4,
   "metadata": {},
   "outputs": [
    {
     "name": "stdout",
     "output_type": "stream",
     "text": [
      "Loaded layout model s3://layout/2025_02_18 on device cuda with dtype torch.float16\n",
      "Loaded texify model s3://texify/2025_02_18 on device cuda with dtype torch.float16\n",
      "Loaded recognition model s3://text_recognition/2025_02_18 on device cuda with dtype torch.float16\n",
      "Loaded table recognition model s3://table_recognition/2025_02_18 on device cuda with dtype torch.float16\n",
      "Loaded detection model s3://text_detection/2025_02_18 on device cuda with dtype torch.float16\n",
      "Loaded detection model s3://inline_math_detection/2025_02_18 on device cuda with dtype torch.float16\n"
     ]
    }
   ],
   "source": [
    "from marker.converters.pdf import PdfConverter\n",
    "from marker.models import create_model_dict\n",
    "from marker.output import text_from_rendered\n",
    "\n",
    "converter = PdfConverter(\n",
    "    artifact_dict=create_model_dict(),\n",
    ")\n"
   ]
  },
  {
   "cell_type": "code",
   "execution_count": 5,
   "metadata": {},
   "outputs": [
    {
     "name": "stderr",
     "output_type": "stream",
     "text": [
      "Recognizing layout: 100%|██████████| 3/3 [00:01<00:00,  2.10it/s]\n",
      "Running OCR Error Detection: 100%|██████████| 2/2 [00:00<00:00, 109.15it/s]\n",
      "Detecting bboxes: 100%|██████████| 5/5 [00:00<00:00,  5.14it/s]\n",
      "Recognizing Text: 100%|██████████| 9/9 [00:03<00:00,  2.37it/s]\n",
      "Detecting bboxes: 100%|██████████| 1/1 [00:00<00:00, 10.88it/s]\n",
      "Recognizing Text: 100%|██████████| 1/1 [00:00<00:00,  7.03it/s]\n",
      "Recognizing tables: 100%|██████████| 1/1 [00:00<00:00, 11.73it/s]\n"
     ]
    }
   ],
   "source": [
    "rendered = converter(\"/home/ajay/contracts_v3/Sample Agreements/Celebrity Contract_3.pdf\")\n",
    "text, _, images = text_from_rendered(rendered)"
   ]
  },
  {
   "cell_type": "code",
   "execution_count": 6,
   "metadata": {},
   "outputs": [
    {
     "data": {
      "text/plain": [
       "'## DEF JAM RECORDING, A DIVISION OF UMG RECORDINGS, INC. 1755 BROADWAY NEW YORK, NEW YORK 10019\\n\\nDated as of August 11, 2014\\n\\nGetting Out Our Dreams II, LLC c/o Carroll, Guido & Groffman, LLP 5 Columbus Circle 20th Floor New York, NY 10019 Attention: Michael Guido, Esq.\\n\\n- Def Jam Recordings -w- Getting Out Our Dreams II, LLC fislo Kanye West I/ Amendment to Re: the P&D Agreement (LPs 7 - 10)\\nDear Gentlepersons:\\n\\n- Reference is hereby made to the following agreements may have been amended and which agreements are in full force and effect as of the date hereof:\\nThe exclusive recording agreement between Def Jam Recordings, a division of UMG Recordings, Inc. (as successor-in-interest to the Island Def Jam Music Group, as successor-in-interest to Roc-A-Fella Records, LLC [collectively, \"UMG\"]), and Rock The World, LLC (\"RTW\") f/s/o Kanye West (the \"Artist\"), dated as of April 13, 2005, (\"Recording Agreement\");\\n\\nThe profit split acreement between UMG and RTW f/s/o Artist, dated as of May 4, 2012, which amendment to the Recording Agreement, among other things, sels forth the profit spit and reversion terms in connection with the sixth Album and seventh Album (\"Profit Split Agreement\");\\n\\nThe assignment and assumption agreement between RTW and Artist, dated as of May 4, 2012 (including the exhibit, which exhibit, among other things, directs UMG to pay Artist and RTW directly in connection with the Recording Agreement) with respect to RTW\\'s assignment of its prospective rights under the Recording Agreement to Artist, dated as of May 4, 2012 (collectively, \"RTW Letter of Direction\"); and\\n\\nThe exclusive pressing and distribution agreement between UMG and Getting Out Our Dreams II, L.C (\"Grantor\" or \"you\") with respect to the pressing and distribution of Artist\\'s eighth Album and ninth Album, dated as of May 7, 2012 (\"P&D Agreement\").\\n\\nThe aforementioned agreements, as amended hereby, shall be collectively referred to herein as the \"Kanye Agreements\". All terms not spectically defined herein shall have the same meaning used in the P&D Agreement and Recording Agreement, unless otherwise provided herein. If any of the terms contained herein (hereinafter, the \"P&D Amendment) conflict with the terms of the Recording Agreement, the terms of the P&D Amendment shall govern.\\n\\nFor good and valuable consideration, the receipt of which each party hereby acknowledges, the parties agree to modify the Kanye Agreements as follows:\\n\\nTerm / Product. Notwithstanding anything to the contrary contained in the Kanye Agreements 1. (including, without limitation, this P&D Amendment):\\n\\nGrantor and Artist hereby acknowledge and agree that UMG timely and properly (a) exercised its option to extend the Term of the Recording Agreement for the sixth Option Pariod during which UMG is entitled to receive delivery of the seventh Album of the Minimum Recording Obligation (the\\n\\n\"Seventh Album\"). The Seventh Album shall hereinafter be deemed the first Album of the P&D Agreement (i.e., the Sixth Alburn shall be the final Album delivered to UMG in satisfaction of the Minimum Recording Obligation of the Recording Agreement, subject to the provisions of paragraph 7 below). Notwithstanding anything to the contrary contained in the Kanye Agreements (including, without limitation, this P&D Amendment), in connection with the Seventh Album (and each of the other P&D Albums), all of RTW\\'s, Grantor\\'s and/or Artist\\'s, as applicable, covenants, warranties, representations and grants of fights, including, without limitation, all representations and covenants pursuant to the Recording Agreement, and all of UMG\\'s rights in connection therewith, shall remain in full force and effect (including any payment obligations to RTW in connection with the Seventh Album) with respect to each of the P&D Albums as if incorporated herein.\\n\\nDuring the term of the P&D Agreement (the P&D Term\"), Grantor may, at its sole option, (b) deliver to UMG one (1) extra-contractual Album comprised of previously recorded, unreleased Master Recordings, featuring the performances of Artist, tentatively entitled the \"Lost Yeezus Tapes\" (collecively, the \"Lost Tapes\"). In the event that Grantor delivers the Lost Tapes to UMG, the Lost Tapes shall be deemed a P&D Album (defined below) subject to the same financial terms set forth herein with respect to the Seventh Album (i.e., with respect to payments, the administration of Recording Costs, the applicable Distribution Fee and Licensing Fee, Third Party Marketing Costs, accountings, etc.). For the avoidance of doubt, Grantor shall not be permitted to release the Lost Tapes to any party other than UMG.\\n\\nGrantor hereby grants to UMG one (1) additional separate option to extend the P&D (c) Term for one (1) additional Contract Period (i.e., the tenth Album of the Minimum Recording Obligation \"Tenth Album\")). For the avoidance of doubt, following the Initial Period, UMG shall have a total of three (3) additional separate options for three (3) Albums (i.e., the Eighth Album, Ninth Album and Tenth Album).\\n\\nThe following provisions shall replace paragraph 1(c) of the P&D Agreement and are (d) incorporated herein:\\n\\nThe Minimum P&D Recording Obligation hereunder shall be as follows: \"(c)\\n\\n| Contract Period     | Minimum P&D Recording Obligation |\\n|---------------------|----------------------------------|\\n| initial Period      | the Seventh Album                |\\n| First Option Period | the Eighth Album                 |\\n| Second Period       | the Ninth Album                  |\\n| Third Option Period | the Tenth Album                  |\\n\\nThe Seventh Album, Eighth Album, Ninth Album shall hereinatter be collectively referred to as the \"P&D Albums\"; each, a \"P&D Album\". The P&D Albums shall be deemed \"Subject Materials\" (as such term is defined in paragraph 1(d) below).8\\n\\nAdministration of Recording Costs. Notwithstanding anything to the contrary contained in the 2. Kanye Agreements (including, without limitation, this P&D Amendment):\\n\\nAs of the date hereof, UMG\\'s obligation to fund any and all Recording Funds, Advances, Recording Costs (Including, but not limited to, the Recording Funds set forth in paragraph 3(b) of the P&D Agreement) to Grantor pursuant to the P&D Agreement is hereby deemed terminated. Notwithstanding the foregoing, commencing as of the date hereof, Grantor shall prospectively fund any and all Recording Costs (including, but not limited to, clearance costs, equipment rentals, performer fees, union related costs, A&R related travel expenses, producer advances, side-artists advances, musician fees, sample fees, etc.) in connection with Artist\\'s recording of the P&D Albums hereunder (including, without limitation, the Seventh Album), it being understood that any such costs paid or committed to be paid by UMG in connection with the P&D Albums (including, without limitation, the Execution Advance set forth in paragraph 3(a) of the P&D Agreement, and all Advances and/or Recording Costs, paid by UMG in connection with the Seventh Album), shall be deducted from \"Net Billings\" (defined in paragraph 3(d) below) or Net Licensing Billings, as applicable, otherwise payable to Grantor hereunder.\\n\\nDistribution Fee. Notwithstanding anything to the contrary contained in the Kanye Agreenents 3. (including, without limitation, this P&D Amendment):\\n\\nSeventh Album / Distribution Fee. Solely in connection with the exploitation of (a) (1) the Seventh Album in the United States, UMG shall retain a Distribution Fee of twenty-one percent (21%) of Net Billings, reducing prospectively to seventeen percent (17%) of Net Billings upon reaching sales in excess of one million (1,000,000) units in the United States as determined by Soundscan (or its equivalent if UMG ceases to use the Soundscan service). Notwithstanding the foregoing, Grantor\\'s share of Net Proceeds otherwise payable to Grantor and/or Artist in connection with the Seventh Album shall be paid to Grantor, Artist\\'s designee) and RTW pursuant to the terms of the RTW Letter of Direction, subject to the terms and conditions herein.\\n\\nSeventh Album / Ex-U.S. Rate. For the avoidance of doubt, the Basic Rate shall (ii) be twenty-five percent (25%) in connection with UMG\\'s sales, distribution and other exploitation of the Seventh Album outside of the United States (through affiliates or other third parties).\\n\\nEighth Album Distribution Fee. Solely in connection with the exploitation of the (b) (i) Eighth Album in the United States, UMG shall retain a Distribution Fee of seventeen percent (17%) of Net Billings.\\n\\nEighth Album / Ex-US Rate. For the avoidance of doubt, the Basic Rate shall be (11) twenty-five percent (25%) in connection with UMG\\'s sales, distribution and other exploitation of the Eighth Album outside of the United States (through affiliates or other third parties).\\n\\nNinth & Tenth Album / Distribution Fee. Solely in connection with the exploitation (1) (C) of the Nirth, and Tenth Albums in the United States, UMG shall relain a Distribution Fee of seventeen percent (17%) of Net Billings.\\n\\nNinth & Tenth Album / Ex-U.S. Rate. For the avoidance of doubt, the Basic Rate (ii) shall be twenty-six percent (26%) in connection with UMG\\'s sales, distribution and other exploitation of each the Ninth Album and Tenth Album outside of the United States (through affiliates or other third parties).\\n\\n\"Net Billings\" shall mean, for all purposes of the P&D Agreement, gross billings in (d) connection with the exploitation of the applicable P&D Albums hereunder, less returns and reserves against anticipated returns and credits earned hereunder in the United States. In establishing reserves, UMG will take into consideration the sale and returns history of previous Records shipped hereunder as well as that of the Record concerned, SoundScan reports (or similar reports) and reports from UMG\\'s distributor regarding to what extent the Record concerned is \"selling through\" at refail outlets. For the avoidance of doubt, in calculating Net Bilings, UMG does not take reserves against anticipated returns for Records sold in the form of Electronic Transmissions. Notwithstanding the foregoing, Net Billings shall also include any reserves UMG liquidates. The foregoing definition of Net Billings shall replace Section 1,01. of Exhibit B of the P&D Agreement.\\n\\nRecoupment. Notwithstanding anything to the contrary contained in the Kanye Agreements 4. (including, without limitation, this P&D Amendment):\\n\\nArtist\\'s royally and net profit account pursuant to the Recording Agreement (collectively, (a) the \"Recording Agreement Royalty Account\") and the RTW Account (as defined in paragraph 4[b] below) which is a portion of the Recording Agreement Royalty Account, shall at all times remain uncrossed from Grantor\\'s share of Net Proceeds pursuant to the P&D Agreement (and this P&D Amendment) (the \"P&D Account\"), except as follows: solely in connection with the P&D Albums and following recoupment of any and all costs paid or incurred by UMG on a P&D Album-by-P&D Album basis (including, without limitation any marketing costs and/or Third Party Marketing Costs [as defined in paragraph 6 below]), UMG shall apply the next Two Million Dollars (\\\\$2,000,000) of Grantor\\'s share of Net Proceeds otherwise payable per P&D Album to the unrecouped Recording Agreement Royalty Account (inclusive of the RTW Account),\\n\\nsubject to an aggregate cap of Six Million Dollars (\\\\$6,000,000) across all P&D Albums. After the aforementioned Two Million Dollar (\\\\$2,000,000) application of recoupment per P&D Album set forth in the immediately preceding sentence is applied to the unrecouped Recording Agreement Royally Account (inclusive of the RTW Account), any and all future monies in connection with Grantor\\'s Share of Net Proceeds payable for the applicable P&D Album shall be applied to the P&D Account only. Notwithstanding the generality of the foregoing, for the purpose of this paragraph 4(a): (i) all costs incurred by UMG in connection with the Seventh Album shall be included in costs when determining recoupment in connection with the Seventh Album herein; (ii) one-half (1/2) of the Execution Advance (Le., \\\\$1,500,000) shall be included in costs when determining recoupment of costs in connection with the Eighth Album herein; and (iii) the balance of the Execution Advance (i.e., \\\\$1,500,000) shall be instuded when determining recoupment of costs in connection with the Ninth Album.\\n\\nFor the avoidance of doubt, that portion of royalties, net profits, and/or Grantor\\'s share of (b) Net Proceeds paid into the Recording Agreement Royalty Account by Grantor as set forth in paragraph 4(a) above, and pursuant to the RTW Letter of Direction (as the same may be amended from time to time), shall constitute the RTW account (the \"RTW Account\"). For the further avoidance of doubt pursuant to the RTW Letter of Direction, the RTW Account shall not be deemed payable until such time as the Recording Agreement Royalty Account (of which the RTW Account is a portion of) is in a fully recouped position. No royalties accruing pursuant to the Recording Agreement shall be paid through to Artist until such time as the Record Agreement Royalty Account is in a fully recouped position, subject further to the terms and conditions of paragraph 4(a) above.\\n\\nTimely Delivery of Seventh Album. Notwithstanding anything to the contrary contained in the 5. Kanye Agreements (including, without limitation, this P&D Amendment), Grantor shall be obligated to Deliver the Master Recordings comprising the Seventh Album to UMG within a reasonable time for such Seventh Album to be commercially released by UMG in 2015; such delivery date may only be extended by mutual approval of the parties hereto.\\n\\nNotwithstanding anything to the contrary contained in the Kanye Agreements 6. Marketing. (including, without limitation, this P&D Amendment), solely in connection with its commercial release of the P&D Albums in the United States, UMG will advance or incur all costs to third parties in connection with marketing, promotion, publicity, and advertising, including without limitation, the cost of promotional Records and Videos that are part of the marketing plan approved in writing by UMG for the P&D Album concerned (collectively, the \"Third Party Marketing Costs\"); provided, however, that UMG shall be required to incur Third Party Marketing Costs up to, but not in excess of, an amount equal to twenty-five percent (25%) . of the amount of Net Billings that UMG reasonably projects (in UMG\\'s sole reasonable good faith judgment, based on UMG\\'s projected sales less returns and discounts of the P&D Album concerned, and without the deduction of any reserves) will be earned in connection with its distribution of the P&D Album concerned. Notwithstanding anything to the contrary set forth herein, all Third Party Marketing Costs hereunder shall be deemed Advances pursuant to the P&D Agreement and deducted from Net Licensing Billings, as applicable, in the computation of Grantor\\'s share of Net Billings otherwise payable to Grantor hereunder.\\n\\nExclusivity. Notwithstanding anything to the contracy contained in the Kanye Agreements 7. (including, without limitation, this P&D Amendment), during the P&D Term and the period one (1) year immediately following the expiration of the P&D Term (the \"Exclusivity Period\"), Grantor shall continue to furnish the recording services of Artist exclusively to UMG and neither Grantor nor Artist, or any Person deriving any rights from Grantor or Artist, shall at any time, do, or authorize any Person to do, anything inconsistent with, or which might diminish or impair, any of UMG\\'s rights of exclusivity hereunder (including, but not limited to the rights and restrictions set forth in section 10 of the Recording Agreement). For the avoidance of doubt, the provisions of paragraph 2 of the P&D Agreement shall apply hereunder.\\n\\nLetters of Direction. UMG will honor letters of direction from Grantor (in a format approved by 8. UMG) to pay third party record royalties and mechanical royalies to producers, remixers and sample licensors due in connection with P&D Album sales and exploitations. For the avoidance of doubt, UMG shall not honor any letter of direction from Grantor to pay advances to third parties.\\n\\nAudit. UMG acknowledges its receipt of Grantor\\'s intent to audit the Recording Agreement 9. accounting and royalty statements rendered for the periods commencing January 1, 2010 through December 31, 2013 (the \"Audit\"). UMG hereby agrees to a prospective extension of the contractual time to commence action, and a prospective tolling of the statute of limitations (whether contractual, statutory, or otherwise) if applicable, with respect to Grantor\\'s claims relating to those royalty statements rendered by UMG in connection with the Audit. By providing this tolling agreement, UMG is not agreeing that any of the issues raised in the Audit are valid or that UMG owes any additional amounts in connection with the Audit, the royally statements or otherwise. This tolling agreement will expire, unless further extended, on March 31, 2015, and does not extend or revive any limitations period (whether contractual, statutory, or otherwise) that have already expired as of June 12, 2014, and does not affect or limit any claim or defense that may already exist, including, without limitation, those based upon principles of estoppel, waiver and laches and/or relating to a previously limitations period that may have already expired as of June 12, 2014.\\n\\n## 10. Miscellaneous.\\n\\nThe parties hereto, or constitute either party the agent of the other, and neither party shall (a) become liable for any representation, act or omission of the other which is contrary to the provisions of this paragraph 10(a).\\n\\nThis writing sets forth the entire understanding between the parties hereto with respect to (b) the subject matter hereof, and no modification, amendment or waiver of this document shall be binding upon either party hereto unless confirmed by a written instrument signed by an authorized signatory of the party sought to be bound. No waiver of any provision of, or waiver of a default under this P&D Amendment or any failure to exercise rights hereunder shall prejudice the rights of either party thereafter, nor shall it form precedent for the future.\\n\\nExcept as expressly or by necessary implication modified hereby, the P&D Agreement (C) and all provisions thereby ratified and affirmed as being in full force and effect, without limitation or exception.\\n\\nThis document may be signed in counterparts, and may be executed and delivered by (d) facsimile, electronic mail (as a scanned attachment or pdf. file), which when taken together will have the same effect as if signed it its original form by all the parties.\\n\\nVery truly yours, DEF JAM RECORDINGS, A DIVISION OF UMG RECORDINGS, I BV Authorized Representative AGREED AND ACCEPTED: GETTING OUT OUR DEAMS II, LLC. By: An Authorized Representative Kanye West\\n\\nKanye West PD Amendment LPs 7-10 (12 02 14) v4 nw f clean\\n\\n110'"
      ]
     },
     "execution_count": 6,
     "metadata": {},
     "output_type": "execute_result"
    }
   ],
   "source": [
    "text"
   ]
  },
  {
   "cell_type": "code",
   "execution_count": 7,
   "metadata": {},
   "outputs": [
    {
     "name": "stdout",
     "output_type": "stream",
     "text": [
      "## DEF JAM RECORDING, A DIVISION OF UMG RECORDINGS, INC. 1755 BROADWAY NEW YORK, NEW YORK 10019\n",
      "\n",
      "Dated as of August 11, 2014\n",
      "\n",
      "Getting Out Our Dreams II, LLC c/o Carroll, Guido & Groffman, LLP 5 Columbus Circle 20th Floor New York, NY 10019 Attention: Michael Guido, Esq.\n",
      "\n",
      "- Def Jam Recordings -w- Getting Out Our Dreams II, LLC fislo Kanye West I/ Amendment to Re: the P&D Agreement (LPs 7 - 10)\n",
      "Dear Gentlepersons:\n",
      "\n",
      "- Reference is hereby made to the following agreements may have been amended and which agreements are in full force and effect as of the date hereof:\n",
      "The exclusive recording agreement between Def Jam Recordings, a division of UMG Recordings, Inc. (as successor-in-interest to the Island Def Jam Music Group, as successor-in-interest to Roc-A-Fella Records, LLC [collectively, \"UMG\"]), and Rock The World, LLC (\"RTW\") f/s/o Kanye West (the \"Artist\"), dated as of April 13, 2005, (\"Recording Agreement\");\n",
      "\n",
      "The profit split acreement between UMG and RTW f/s/o Artist, dated as of May 4, 2012, which amendment to the Recording Agreement, among other things, sels forth the profit spit and reversion terms in connection with the sixth Album and seventh Album (\"Profit Split Agreement\");\n",
      "\n",
      "The assignment and assumption agreement between RTW and Artist, dated as of May 4, 2012 (including the exhibit, which exhibit, among other things, directs UMG to pay Artist and RTW directly in connection with the Recording Agreement) with respect to RTW's assignment of its prospective rights under the Recording Agreement to Artist, dated as of May 4, 2012 (collectively, \"RTW Letter of Direction\"); and\n",
      "\n",
      "The exclusive pressing and distribution agreement between UMG and Getting Out Our Dreams II, L.C (\"Grantor\" or \"you\") with respect to the pressing and distribution of Artist's eighth Album and ninth Album, dated as of May 7, 2012 (\"P&D Agreement\").\n",
      "\n",
      "The aforementioned agreements, as amended hereby, shall be collectively referred to herein as the \"Kanye Agreements\". All terms not spectically defined herein shall have the same meaning used in the P&D Agreement and Recording Agreement, unless otherwise provided herein. If any of the terms contained herein (hereinafter, the \"P&D Amendment) conflict with the terms of the Recording Agreement, the terms of the P&D Amendment shall govern.\n",
      "\n",
      "For good and valuable consideration, the receipt of which each party hereby acknowledges, the parties agree to modify the Kanye Agreements as follows:\n",
      "\n",
      "Term / Product. Notwithstanding anything to the contrary contained in the Kanye Agreements 1. (including, without limitation, this P&D Amendment):\n",
      "\n",
      "Grantor and Artist hereby acknowledge and agree that UMG timely and properly (a) exercised its option to extend the Term of the Recording Agreement for the sixth Option Pariod during which UMG is entitled to receive delivery of the seventh Album of the Minimum Recording Obligation (the\n",
      "\n",
      "\"Seventh Album\"). The Seventh Album shall hereinafter be deemed the first Album of the P&D Agreement (i.e., the Sixth Alburn shall be the final Album delivered to UMG in satisfaction of the Minimum Recording Obligation of the Recording Agreement, subject to the provisions of paragraph 7 below). Notwithstanding anything to the contrary contained in the Kanye Agreements (including, without limitation, this P&D Amendment), in connection with the Seventh Album (and each of the other P&D Albums), all of RTW's, Grantor's and/or Artist's, as applicable, covenants, warranties, representations and grants of fights, including, without limitation, all representations and covenants pursuant to the Recording Agreement, and all of UMG's rights in connection therewith, shall remain in full force and effect (including any payment obligations to RTW in connection with the Seventh Album) with respect to each of the P&D Albums as if incorporated herein.\n",
      "\n",
      "During the term of the P&D Agreement (the P&D Term\"), Grantor may, at its sole option, (b) deliver to UMG one (1) extra-contractual Album comprised of previously recorded, unreleased Master Recordings, featuring the performances of Artist, tentatively entitled the \"Lost Yeezus Tapes\" (collecively, the \"Lost Tapes\"). In the event that Grantor delivers the Lost Tapes to UMG, the Lost Tapes shall be deemed a P&D Album (defined below) subject to the same financial terms set forth herein with respect to the Seventh Album (i.e., with respect to payments, the administration of Recording Costs, the applicable Distribution Fee and Licensing Fee, Third Party Marketing Costs, accountings, etc.). For the avoidance of doubt, Grantor shall not be permitted to release the Lost Tapes to any party other than UMG.\n",
      "\n",
      "Grantor hereby grants to UMG one (1) additional separate option to extend the P&D (c) Term for one (1) additional Contract Period (i.e., the tenth Album of the Minimum Recording Obligation \"Tenth Album\")). For the avoidance of doubt, following the Initial Period, UMG shall have a total of three (3) additional separate options for three (3) Albums (i.e., the Eighth Album, Ninth Album and Tenth Album).\n",
      "\n",
      "The following provisions shall replace paragraph 1(c) of the P&D Agreement and are (d) incorporated herein:\n",
      "\n",
      "The Minimum P&D Recording Obligation hereunder shall be as follows: \"(c)\n",
      "\n",
      "| Contract Period     | Minimum P&D Recording Obligation |\n",
      "|---------------------|----------------------------------|\n",
      "| initial Period      | the Seventh Album                |\n",
      "| First Option Period | the Eighth Album                 |\n",
      "| Second Period       | the Ninth Album                  |\n",
      "| Third Option Period | the Tenth Album                  |\n",
      "\n",
      "The Seventh Album, Eighth Album, Ninth Album shall hereinatter be collectively referred to as the \"P&D Albums\"; each, a \"P&D Album\". The P&D Albums shall be deemed \"Subject Materials\" (as such term is defined in paragraph 1(d) below).8\n",
      "\n",
      "Administration of Recording Costs. Notwithstanding anything to the contrary contained in the 2. Kanye Agreements (including, without limitation, this P&D Amendment):\n",
      "\n",
      "As of the date hereof, UMG's obligation to fund any and all Recording Funds, Advances, Recording Costs (Including, but not limited to, the Recording Funds set forth in paragraph 3(b) of the P&D Agreement) to Grantor pursuant to the P&D Agreement is hereby deemed terminated. Notwithstanding the foregoing, commencing as of the date hereof, Grantor shall prospectively fund any and all Recording Costs (including, but not limited to, clearance costs, equipment rentals, performer fees, union related costs, A&R related travel expenses, producer advances, side-artists advances, musician fees, sample fees, etc.) in connection with Artist's recording of the P&D Albums hereunder (including, without limitation, the Seventh Album), it being understood that any such costs paid or committed to be paid by UMG in connection with the P&D Albums (including, without limitation, the Execution Advance set forth in paragraph 3(a) of the P&D Agreement, and all Advances and/or Recording Costs, paid by UMG in connection with the Seventh Album), shall be deducted from \"Net Billings\" (defined in paragraph 3(d) below) or Net Licensing Billings, as applicable, otherwise payable to Grantor hereunder.\n",
      "\n",
      "Distribution Fee. Notwithstanding anything to the contrary contained in the Kanye Agreenents 3. (including, without limitation, this P&D Amendment):\n",
      "\n",
      "Seventh Album / Distribution Fee. Solely in connection with the exploitation of (a) (1) the Seventh Album in the United States, UMG shall retain a Distribution Fee of twenty-one percent (21%) of Net Billings, reducing prospectively to seventeen percent (17%) of Net Billings upon reaching sales in excess of one million (1,000,000) units in the United States as determined by Soundscan (or its equivalent if UMG ceases to use the Soundscan service). Notwithstanding the foregoing, Grantor's share of Net Proceeds otherwise payable to Grantor and/or Artist in connection with the Seventh Album shall be paid to Grantor, Artist's designee) and RTW pursuant to the terms of the RTW Letter of Direction, subject to the terms and conditions herein.\n",
      "\n",
      "Seventh Album / Ex-U.S. Rate. For the avoidance of doubt, the Basic Rate shall (ii) be twenty-five percent (25%) in connection with UMG's sales, distribution and other exploitation of the Seventh Album outside of the United States (through affiliates or other third parties).\n",
      "\n",
      "Eighth Album Distribution Fee. Solely in connection with the exploitation of the (b) (i) Eighth Album in the United States, UMG shall retain a Distribution Fee of seventeen percent (17%) of Net Billings.\n",
      "\n",
      "Eighth Album / Ex-US Rate. For the avoidance of doubt, the Basic Rate shall be (11) twenty-five percent (25%) in connection with UMG's sales, distribution and other exploitation of the Eighth Album outside of the United States (through affiliates or other third parties).\n",
      "\n",
      "Ninth & Tenth Album / Distribution Fee. Solely in connection with the exploitation (1) (C) of the Nirth, and Tenth Albums in the United States, UMG shall relain a Distribution Fee of seventeen percent (17%) of Net Billings.\n",
      "\n",
      "Ninth & Tenth Album / Ex-U.S. Rate. For the avoidance of doubt, the Basic Rate (ii) shall be twenty-six percent (26%) in connection with UMG's sales, distribution and other exploitation of each the Ninth Album and Tenth Album outside of the United States (through affiliates or other third parties).\n",
      "\n",
      "\"Net Billings\" shall mean, for all purposes of the P&D Agreement, gross billings in (d) connection with the exploitation of the applicable P&D Albums hereunder, less returns and reserves against anticipated returns and credits earned hereunder in the United States. In establishing reserves, UMG will take into consideration the sale and returns history of previous Records shipped hereunder as well as that of the Record concerned, SoundScan reports (or similar reports) and reports from UMG's distributor regarding to what extent the Record concerned is \"selling through\" at refail outlets. For the avoidance of doubt, in calculating Net Bilings, UMG does not take reserves against anticipated returns for Records sold in the form of Electronic Transmissions. Notwithstanding the foregoing, Net Billings shall also include any reserves UMG liquidates. The foregoing definition of Net Billings shall replace Section 1,01. of Exhibit B of the P&D Agreement.\n",
      "\n",
      "Recoupment. Notwithstanding anything to the contrary contained in the Kanye Agreements 4. (including, without limitation, this P&D Amendment):\n",
      "\n",
      "Artist's royally and net profit account pursuant to the Recording Agreement (collectively, (a) the \"Recording Agreement Royalty Account\") and the RTW Account (as defined in paragraph 4[b] below) which is a portion of the Recording Agreement Royalty Account, shall at all times remain uncrossed from Grantor's share of Net Proceeds pursuant to the P&D Agreement (and this P&D Amendment) (the \"P&D Account\"), except as follows: solely in connection with the P&D Albums and following recoupment of any and all costs paid or incurred by UMG on a P&D Album-by-P&D Album basis (including, without limitation any marketing costs and/or Third Party Marketing Costs [as defined in paragraph 6 below]), UMG shall apply the next Two Million Dollars (\\$2,000,000) of Grantor's share of Net Proceeds otherwise payable per P&D Album to the unrecouped Recording Agreement Royalty Account (inclusive of the RTW Account),\n",
      "\n",
      "subject to an aggregate cap of Six Million Dollars (\\$6,000,000) across all P&D Albums. After the aforementioned Two Million Dollar (\\$2,000,000) application of recoupment per P&D Album set forth in the immediately preceding sentence is applied to the unrecouped Recording Agreement Royally Account (inclusive of the RTW Account), any and all future monies in connection with Grantor's Share of Net Proceeds payable for the applicable P&D Album shall be applied to the P&D Account only. Notwithstanding the generality of the foregoing, for the purpose of this paragraph 4(a): (i) all costs incurred by UMG in connection with the Seventh Album shall be included in costs when determining recoupment in connection with the Seventh Album herein; (ii) one-half (1/2) of the Execution Advance (Le., \\$1,500,000) shall be included in costs when determining recoupment of costs in connection with the Eighth Album herein; and (iii) the balance of the Execution Advance (i.e., \\$1,500,000) shall be instuded when determining recoupment of costs in connection with the Ninth Album.\n",
      "\n",
      "For the avoidance of doubt, that portion of royalties, net profits, and/or Grantor's share of (b) Net Proceeds paid into the Recording Agreement Royalty Account by Grantor as set forth in paragraph 4(a) above, and pursuant to the RTW Letter of Direction (as the same may be amended from time to time), shall constitute the RTW account (the \"RTW Account\"). For the further avoidance of doubt pursuant to the RTW Letter of Direction, the RTW Account shall not be deemed payable until such time as the Recording Agreement Royalty Account (of which the RTW Account is a portion of) is in a fully recouped position. No royalties accruing pursuant to the Recording Agreement shall be paid through to Artist until such time as the Record Agreement Royalty Account is in a fully recouped position, subject further to the terms and conditions of paragraph 4(a) above.\n",
      "\n",
      "Timely Delivery of Seventh Album. Notwithstanding anything to the contrary contained in the 5. Kanye Agreements (including, without limitation, this P&D Amendment), Grantor shall be obligated to Deliver the Master Recordings comprising the Seventh Album to UMG within a reasonable time for such Seventh Album to be commercially released by UMG in 2015; such delivery date may only be extended by mutual approval of the parties hereto.\n",
      "\n",
      "Notwithstanding anything to the contrary contained in the Kanye Agreements 6. Marketing. (including, without limitation, this P&D Amendment), solely in connection with its commercial release of the P&D Albums in the United States, UMG will advance or incur all costs to third parties in connection with marketing, promotion, publicity, and advertising, including without limitation, the cost of promotional Records and Videos that are part of the marketing plan approved in writing by UMG for the P&D Album concerned (collectively, the \"Third Party Marketing Costs\"); provided, however, that UMG shall be required to incur Third Party Marketing Costs up to, but not in excess of, an amount equal to twenty-five percent (25%) . of the amount of Net Billings that UMG reasonably projects (in UMG's sole reasonable good faith judgment, based on UMG's projected sales less returns and discounts of the P&D Album concerned, and without the deduction of any reserves) will be earned in connection with its distribution of the P&D Album concerned. Notwithstanding anything to the contrary set forth herein, all Third Party Marketing Costs hereunder shall be deemed Advances pursuant to the P&D Agreement and deducted from Net Licensing Billings, as applicable, in the computation of Grantor's share of Net Billings otherwise payable to Grantor hereunder.\n",
      "\n",
      "Exclusivity. Notwithstanding anything to the contracy contained in the Kanye Agreements 7. (including, without limitation, this P&D Amendment), during the P&D Term and the period one (1) year immediately following the expiration of the P&D Term (the \"Exclusivity Period\"), Grantor shall continue to furnish the recording services of Artist exclusively to UMG and neither Grantor nor Artist, or any Person deriving any rights from Grantor or Artist, shall at any time, do, or authorize any Person to do, anything inconsistent with, or which might diminish or impair, any of UMG's rights of exclusivity hereunder (including, but not limited to the rights and restrictions set forth in section 10 of the Recording Agreement). For the avoidance of doubt, the provisions of paragraph 2 of the P&D Agreement shall apply hereunder.\n",
      "\n",
      "Letters of Direction. UMG will honor letters of direction from Grantor (in a format approved by 8. UMG) to pay third party record royalties and mechanical royalies to producers, remixers and sample licensors due in connection with P&D Album sales and exploitations. For the avoidance of doubt, UMG shall not honor any letter of direction from Grantor to pay advances to third parties.\n",
      "\n",
      "Audit. UMG acknowledges its receipt of Grantor's intent to audit the Recording Agreement 9. accounting and royalty statements rendered for the periods commencing January 1, 2010 through December 31, 2013 (the \"Audit\"). UMG hereby agrees to a prospective extension of the contractual time to commence action, and a prospective tolling of the statute of limitations (whether contractual, statutory, or otherwise) if applicable, with respect to Grantor's claims relating to those royalty statements rendered by UMG in connection with the Audit. By providing this tolling agreement, UMG is not agreeing that any of the issues raised in the Audit are valid or that UMG owes any additional amounts in connection with the Audit, the royally statements or otherwise. This tolling agreement will expire, unless further extended, on March 31, 2015, and does not extend or revive any limitations period (whether contractual, statutory, or otherwise) that have already expired as of June 12, 2014, and does not affect or limit any claim or defense that may already exist, including, without limitation, those based upon principles of estoppel, waiver and laches and/or relating to a previously limitations period that may have already expired as of June 12, 2014.\n",
      "\n",
      "## 10. Miscellaneous.\n",
      "\n",
      "The parties hereto, or constitute either party the agent of the other, and neither party shall (a) become liable for any representation, act or omission of the other which is contrary to the provisions of this paragraph 10(a).\n",
      "\n",
      "This writing sets forth the entire understanding between the parties hereto with respect to (b) the subject matter hereof, and no modification, amendment or waiver of this document shall be binding upon either party hereto unless confirmed by a written instrument signed by an authorized signatory of the party sought to be bound. No waiver of any provision of, or waiver of a default under this P&D Amendment or any failure to exercise rights hereunder shall prejudice the rights of either party thereafter, nor shall it form precedent for the future.\n",
      "\n",
      "Except as expressly or by necessary implication modified hereby, the P&D Agreement (C) and all provisions thereby ratified and affirmed as being in full force and effect, without limitation or exception.\n",
      "\n",
      "This document may be signed in counterparts, and may be executed and delivered by (d) facsimile, electronic mail (as a scanned attachment or pdf. file), which when taken together will have the same effect as if signed it its original form by all the parties.\n",
      "\n",
      "Very truly yours, DEF JAM RECORDINGS, A DIVISION OF UMG RECORDINGS, I BV Authorized Representative AGREED AND ACCEPTED: GETTING OUT OUR DEAMS II, LLC. By: An Authorized Representative Kanye West\n",
      "\n",
      "Kanye West PD Amendment LPs 7-10 (12 02 14) v4 nw f clean\n",
      "\n",
      "110\n"
     ]
    }
   ],
   "source": [
    "print(text)"
   ]
  },
  {
   "cell_type": "code",
   "execution_count": 8,
   "metadata": {},
   "outputs": [
    {
     "name": "stderr",
     "output_type": "stream",
     "text": [
      "Recognizing layout: 100%|██████████| 3/3 [00:00<00:00,  4.18it/s]\n",
      "Running OCR Error Detection: 100%|██████████| 2/2 [00:00<00:00, 417.76it/s]\n",
      "Detecting bboxes: 100%|██████████| 5/5 [00:00<00:00,  5.88it/s]\n",
      "Recognizing Text: 100%|██████████| 7/7 [00:02<00:00,  2.45it/s]\n",
      "Detecting bboxes: 0it [00:00, ?it/s]\n"
     ]
    }
   ],
   "source": [
    "rendered = converter(\"/home/ajay/contracts_v3/Sample Agreements/Celebrity Contract_2.pdf\")\n",
    "text, _, images = text_from_rendered(rendered)"
   ]
  },
  {
   "cell_type": "code",
   "execution_count": 9,
   "metadata": {},
   "outputs": [
    {
     "name": "stdout",
     "output_type": "stream",
     "text": [
      "# THE ISLAND DEF JAM MUSIC GROUP, A DIVISION OF UMG RECORDINGS, INC. 1755 BROADWAY NEW YORK, NEW YORK 10019\n",
      "\n",
      "Dated as of March 10, 2013\n",
      "\n",
      "Kanye West c/o Carroll, Guido & Groffinan, LLP 1790 Broadway, 2011 Floor Suite 800 New York, NY 10019 Attention: Michael Guido, Esq.\n",
      "\n",
      "Getting Ont Our Dreams, LLC' c/o Carroll, Guido & Groffinan, LLP 1790 Broadway, 2011 Floor Suite 800 New York, NY 10019 Attention: Michael Guido, Esq.\n",
      "\n",
      "#### Kanye West / Sixth Album Amendment Re:\n",
      "\n",
      "Dear Gentlepersons:\n",
      "\n",
      "Reference is hereby made to the following agreements, as said agreements may have heen amended and which agreements are in full force and effect as of the date hereot:\n",
      "\n",
      "The exclusive recording agreement between The Island Def Jam Music Group, a division of UMG Recordings, Inc. (as successor-in-interest to Roc-A-Fella Records, LLC (collectively, \"IDJ\"]) and Rock The World, LLC (\"RTW\") f/s/o Kanye West (the \"Artist\"), dated as of April 13, 2005, as amended and in full force and effect as of the date hercof (the \"Recording Agreement\");\n",
      "\n",
      "The lotter of direction and assignment agreement between RTW and Artist, on the one hand, and IDJ, on the other hand, dated as of May 4, 2012, wherein. RTW assigned its rights in and to the Recording Agreement to Artist (the \"Assignment Agreement\");\n",
      "\n",
      "The label agreement between IDJ and Getting Out Our Dreams, Inc. (\"Label\"), dated as of May 27, 2012 (the \"Lubel Agreement\"); and\n",
      "\n",
      "### West IDJ LP6 Amendment 5-clean (3)\n",
      "\n",
      "The film agreement in connection with the film entitled Kanne West Presents: Cruel Summer (the \"Film\") entered into by H)3 on the one hand, and Label and Artist on the other hand, dated as of March 27, 2012, as amended and in fill force and effect as of the date hercof (the \"Film Agreement\").\n",
      "\n",
      "All tenns not specifically defined herein shall have the same meaning used in the Recording Agreement or the Label Agreement, it being understood that if the same term is used in both agreements and are defined differently in each, then the definition used in the Recording Agreement shall apply.\n",
      "\n",
      "WHEREAS, the parties have agreed to allocate Six Hundred Thirty-Nine Thousand Dollars (\\$639,000) (the \"Cruel Summer / Hawaii Costs\") of recording costs incurred in connection with recording sessions in flawaii for both the compilation album entitled 'Cruel Sminner\" (the \"Cruel Summer Album\") (defivered to ID) pursuant to the Label Agreement) and the Sixth Album, to Sixth Album Recording Costs;\n",
      "\n",
      "WHEREAS, Artist has incurred One Million One Hundred Sixty-Three Thousand Dollars (\\$1,163,000) in connection with Sixth Album Recording Costs through December 31, 2012;\n",
      "\n",
      "WHEREAS, One Million One Hundred Ninety-Eight Thousand Dollars (\\$1,198,000) (the \"Sixth Album Balance\") romains in the Sixth Album Recording Fund as of December 31. 2012 (i.e., the \\$12,000,000 Sixth Album Recording Fund, reduced by the following costs: \\$8.000,000). paid as an execution Advance; \\$1.000.000, paid in connection with production of the Film; \\$639,000, paid in connection with the Cruel Summer Album fi.e., Cruel Summer / Hawaii Costs]; and \\$1,163,000, incurred in councetion with Sisth Album Recording Costs through December 31, 2012);\n",
      "\n",
      "WHEREAS. Artist has advised IDJ that Recording Costs in connection with the Sixth Album will exceed the Sixth Album Balance by One Million Five Hundred Twenty-Three Thousand Dollars (\\$1,523,000) (the \"Excess Sixth Album Costs\") (i.e., \\$2,721100 to complete the Sixth Album, inclusive of the Sixth Album Balance);\n",
      "\n",
      "WHEREAS. Artist has incurred approximately, Four Hundred Ninety-Three Thousand Dollars (\\$493,000) (the \"Approximate Paris Costs\") in connection with Sixth Album Recording Costs incurred during sessions in Paris between January 1, 2013 and the date hereof, which costs have been or will be paid by IDJ directly; and\n",
      "\n",
      "WHEREAS. Artist and IDJ have agreed that certain revenues and expenses incurred in commetion with the Film will be allocated to Label's venture with IDJ pursuant. It the Label Agrecuent.\n",
      "\n",
      "NOW THEREFORE, in consideration of the mutual covenants made herein, the parties hereby agree to modify and amend the Recording Agreement, Film Agreement and Label Agreement as follows:\n",
      "\n",
      "2\n",
      "\n",
      "#### West [[)) L.P6 Amendment 5-clean (3)\n",
      "\n",
      "Sixth Album / Cruel Summer Album / Recording Costs. Notwithstanding anything to the contrary contained in the Recording Agreement or the Label Agreement, solely in connection with the Sixth Album, the parties hereby acknowledge that:\n",
      "\n",
      "Cruel Summer / Hawaii Costs will be allocated to the Sixth Album as (1) Sixth Album Recording Costs (i.e., in reduction of the Sixth Album Recording Fund). For the avoidance of doubt, the balance of recording costs incurred in connection with the Crael Smmner Album Japproximately, an additional \\$1,3000,000] will remain allocated to a separate Cruel Sunmer recording budget pursuant to Label's venture with HDI,\n",
      "\n",
      "Cruel Summer / Hawaii Costs shall be fully \"cross-collateralized\" with (b) Artist's main royalty account under the Recording Agreement, subject to the following: HDd may recomp Cruel Summer / Hawaii Costs from: (i) one hundred percent (100%) of Profits generated pursuant to the Label Agreement in connection with the Cruel Summer Album (on a cummative basis; there shall be a standalone \"P&C.\" for the Cruel Summer Album without regard to Overhead Funding); and (ii) in the event that there is a Cruel Winter project (\"Cruel Winter\"), from 100% of Profits generated pursuant to the Label Agreement (if any) in comection with Cruel Winter (without regard to Overhead Funding). To the extent Cruel Summer / Hawaii Costs are recomped pursuant to (i) or (ii) of the prior sentence, Artist's main royally account under the Recording Agreement will\n",
      "\n",
      "be credited with an equal amount.\n",
      "\n",
      "Artist hereby agrees and acknowledges that Recording Costs incurred in (c) connection with the Sixth Album through December 31, 2012 total One Million One Hundred Sixty-Three Thousand Dollars (St, 163,000) and such Recording Costs shall not be re-allocated to any other Artist Album or Label project in councetion with Label Agreement (i.g., such Recording Costs are appropriate and bona fide Sixth Album Recording Casts).\n",
      "\n",
      "Excess Sixth Album Costs. Notwithstanding anything to the contrary contained 2. in the Recording Agreement, solely in connection with the Sixth Album, the parties hereby acknowledge that:\n",
      "\n",
      "The Sixth Album Balance (i.e., \\$1.198,000) will be increased by ( 1) (i) the Excess Sixth Album Costs (i.e., \\$1,523,000) for a total remaining balance of Two Million Seven Hundred Thousand Dollars (\\$2,721,000) (the \"New LP 6 Remaining Balance\").\n",
      "\n",
      "Five Hundred Thousand Dollars (\\$500,000) of the New LP 6 (11) Remaining Balance will be allocated to the Sixth Album Recording Fund in reduction of the Seventh Album commencement Advance (i.g., the Seventh Album commencement Advance set forth in puragraph 2(b)(i) of the May 4, 2012 amendment to the Recording Agreement shall be reduced to \\$2.500,000).\n",
      "\n",
      "In the event that the worldwide performance of LP 6 exceeds (ii) 2,650,000 units (as determined by IDJ's internal reporting system, including 10-track so-\n",
      "\n",
      "West IDJ I P6 Amendment S-clean (3)\n",
      "\n",
      "called \"frack equivalent album sales\" or \"TEAS\"), IDA will increase the Seventh Album commencement Advance by Five United Thousand Dollars (\\$500,000) (i.e., IDJ will increase the Seventh Album commencent Advance by the amount which was paid, per paragraph 2(a)(i) above in reduction of the Seventh Album commencement Advance).\n",
      "\n",
      "For the avoidance of doubt. the New LP 6 Remaining Balance (i.e., (h) \\$2,721,000) will not be rechiced by Cruel Summer / Hawaii Costs,\n",
      "\n",
      "Artist's Administration of Certain Sixth Album Recording .. Costs. Notwithstanding anything to the contrary contained in the Recording Agreement, solely in connection with the Sixth Album, the parties hereby acknowledge that:\n",
      "\n",
      "IDJ will pay to Artist One Million Seven Hundred Twenty-One Thousand ( : ) Dollars (\\$1,721,000) of the New 1.P 6 Remaining Balance, less Approximate Paris Recording Costs (for the avoidance of doubl, to the extent Approximate Paris Recording Costs are determined to be less than or in excess of \\$493,000, IDJ shall adjust the New LP 6 Remaining Balance accordingly), prompfly following the complete execution hereof, and Artist shall directly administer such Recording Costs in connection with the Sixth Album. ID.I will provide evidence of payment of the Approximate Paris Costs paid by them so such costs can be verified and so that IDJ and Company can avoid making any duplientive payments to vendors. The remaining One Million Dollars (\\$1,000,000) will be held und administered by IDJ (in accordance with the terras of paragraph 6.01[a] of the Recording Agreement) in connection with costs associated with samples, sidearists, producers and mustering, and if, after dednetion of all Recording Costs paid or incorred by IDJ in connection with the Sixth Album, there remains any balance of the New 1.1' 6 Remaining Balance, it shall be paid to Artist promptly following delivery of all Muster Recordings and other materials required to be delivered to IDJ pursuant to Articles 3 and 4 of the Recording Agreement in connection with the Sixth Album (and promptly after HDJ reasonably believes that it has received bills or aceruals for all Recording Costs actually incurred in connection with the Sixth Album.\n",
      "\n",
      "Artist shall deliver to IDJ a finished Sixth Album (less mastering and (h) clearances) ready for commercial release by IDJ.\n",
      "\n",
      "Film Revenues / Expenses. Notwithstanding unything to the contrary contained in 4. the Film Agreement or otherwise, the parties hereby acknowledge that any and all revenues and expenses incurred in connection with the Film, solely to the extent of the IDJ Investment in the Film (pursuant to paragraph 1]a| of the Film Agreement [i.e., up lo \\$2,200,000]}, shall fall under the Label Agreement (as already specified in the Film Agreement; and for the avoidance of doubt, all revenue received in connection with Artist's \\$1,500,000 investment in the Film shall be retained by Artist).\n",
      "\n",
      "This writing sets forth the entire understanding between the parties hereto with 5. respect to the subject matter hereof, and no modification, amendment or waiver of this document shall be binding upon either party hereto unless confirmed by a written instrument signed by an authorized signatory of the party sought to be bound. No waiver\n",
      "\n",
      "dia\n",
      "\n",
      "## West IDJ LP6 Amendment 5-cleun (3)\n",
      "\n",
      "of any provision of, or waiver of a default under this amendment or any failure to exercise rights hereunder shall prejudice the rights of either party thereafter, nor shall it form precedent for the future.\n",
      "\n",
      "Except as expressly or by necessary implication modified hereby, the terms and 6. binding effect of the Recording Agreoment, Label Agreement and Film Agreement are hereby ratified and confirmed without limitation or exception.\n",
      "\n",
      "7. This Amendment may be signed in counterparts, and may be executed and delivered by facsimile and or electronic mail as a pdf, which when taken together will have the same effect as if signed it its original form by all the parties.\n",
      "\n",
      "Very truly yours,\n",
      "\n",
      "THE ISLAND DEF JAM MUSIC GROUP, a division of UMG Recordings, Inc.\n",
      "\n",
      "Br\n",
      "\n",
      "AGREED AND ACCEPTED:\n",
      "\n",
      "Getting Out Our Dreams, LLC x Ry: An authorized signatory\n",
      "\n",
      "(insofar as I am concerned)\n",
      "\n",
      "X Kanye West\n",
      "\n",
      "(insofar as I am concerned)\n",
      "\n",
      ".\n",
      "\n",
      "3\n"
     ]
    }
   ],
   "source": [
    "print(text)"
   ]
  },
  {
   "cell_type": "code",
   "execution_count": null,
   "metadata": {},
   "outputs": [],
   "source": []
  }
 ],
 "metadata": {
  "kernelspec": {
   "display_name": ".venv",
   "language": "python",
   "name": "python3"
  },
  "language_info": {
   "codemirror_mode": {
    "name": "ipython",
    "version": 3
   },
   "file_extension": ".py",
   "mimetype": "text/x-python",
   "name": "python",
   "nbconvert_exporter": "python",
   "pygments_lexer": "ipython3",
   "version": "3.12.3"
  }
 },
 "nbformat": 4,
 "nbformat_minor": 2
}
