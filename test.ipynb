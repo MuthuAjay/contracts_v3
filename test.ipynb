{
 "cells": [
  {
   "cell_type": "code",
   "execution_count": 5,
   "metadata": {},
   "outputs": [
    {
     "name": "stdout",
     "output_type": "stream",
     "text": [
      "Loaded layout model s3://layout/2025_02_18 on device cuda with dtype torch.float16\n",
      "Loaded texify model s3://texify/2025_02_18 on device cuda with dtype torch.float16\n",
      "Loaded recognition model s3://text_recognition/2025_02_18 on device cuda with dtype torch.float16\n",
      "Loaded table recognition model s3://table_recognition/2025_02_18 on device cuda with dtype torch.float16\n",
      "Loaded detection model s3://text_detection/2025_02_18 on device cuda with dtype torch.float16\n",
      "Loaded detection model s3://inline_math_detection/2025_02_18 on device cuda with dtype torch.float16\n"
     ]
    }
   ],
   "source": [
    "from marker.converters.pdf import PdfConverter\n",
    "from marker.models import create_model_dict\n",
    "from marker.config.parser import ConfigParser\n",
    "\n",
    "config = {\n",
    "    \"output_format\": \"json\",\n",
    "    \"ADDITIONAL_KEY\": \"VALUE\"\n",
    "}\n",
    "config_parser = ConfigParser(config)\n",
    "\n",
    "converter = PdfConverter(\n",
    "    config=config_parser.generate_config_dict(),\n",
    "    artifact_dict=create_model_dict(),\n",
    "    processor_list=config_parser.get_processors(),\n",
    "    renderer=config_parser.get_renderer(),\n",
    "    llm_service=config_parser.get_llm_service()\n",
    ")\n"
   ]
  },
  {
   "cell_type": "code",
   "execution_count": 8,
   "metadata": {},
   "outputs": [
    {
     "name": "stderr",
     "output_type": "stream",
     "text": [
      "Recognizing layout: 100%|██████████| 3/3 [00:02<00:00,  1.29it/s]\n",
      "Running OCR Error Detection: 100%|██████████| 2/2 [00:00<00:00, 83.55it/s]\n",
      "Detecting bboxes: 100%|██████████| 5/5 [00:01<00:00,  3.72it/s]\n",
      "Recognizing Text: 100%|██████████| 9/9 [00:07<00:00,  1.22it/s]\n",
      "Detecting bboxes: 100%|██████████| 1/1 [00:00<00:00,  6.43it/s]\n",
      "Recognizing Text: 100%|██████████| 1/1 [00:00<00:00,  3.36it/s]\n",
      "Recognizing tables: 100%|██████████| 1/1 [00:00<00:00,  6.66it/s]\n"
     ]
    }
   ],
   "source": [
    "rendered = converter(r\"/home/eyhyd/contracts_v3/Sample Agreements/Celebrity Contract_3.pdf\")"
   ]
  },
  {
   "cell_type": "code",
   "execution_count": 11,
   "metadata": {},
   "outputs": [
    {
     "name": "stdout",
     "output_type": "stream",
     "text": [
      "JSONOutput(children=[JSONBlockOutput(id='/page/0/Page/109', block_type='Page', html=\"<content-ref src='/page/0/SectionHeader/0'></content-ref><content-ref src='/page/0/Text/1'></content-ref><content-ref src='/page/0/Text/2'></content-ref><content-ref src='/page/0/ListItem/3'></content-ref><content-ref src='/page/0/Text/4'></content-ref><content-ref src='/page/0/ListItem/5'></content-ref><content-ref src='/page/0/Text/6'></content-ref><content-ref src='/page/0/Text/7'></content-ref><content-ref src='/page/0/Text/8'></content-ref><content-ref src='/page/0/Text/9'></content-ref><content-ref src='/page/0/Text/10'></content-ref><content-ref src='/page/0/Text/11'></content-ref><content-ref src='/page/0/Text/12'></content-ref><content-ref src='/page/0/Text/13'></content-ref><content-ref src='/page/0/PageFooter/14'></content-ref><content-ref src='/page/0/Text/15'></content-ref>\", polygon=[[0.0, 0.0], [1242.0, 0.0], [1242.0, 1904.0], [0.0, 1904.0]], bbox=[0.0, 0.0, 1242.0, 1904.0], children=[JSONBlockOutput(id='/page/0/SectionHeader/0', block_type='SectionHeader', html='<h2>DEF JAM RECORDING, A DIVISION OF UMG RECORDINGS, INC. 1755 BROADWAY NEW YORK, NEW YORK 10019</h2>', polygon=[[396.0, 188.50064001575424], [854.4814453125, 188.50064001575424], [854.4814453125, 295.27372981488776], [396.0, 295.27372981488776]], bbox=[396.0, 188.50064001575424, 854.4814453125, 295.27372981488776], children=None, section_hierarchy={2: '/page/0/SectionHeader/0'}, images={}), JSONBlockOutput(id='/page/0/Text/1', block_type='Text', html='<p block-type=\"Text\">Dated as of August 11, 2014</p>', polygon=[[747.75, 322.29654883812526], [1051.576171875, 322.29654883812526], [1051.576171875, 348.22087928318234], [747.75, 348.22087928318234]], bbox=[747.75, 322.29654883812526, 1051.576171875, 348.22087928318234], children=None, section_hierarchy={2: '/page/0/SectionHeader/0'}, images={}), JSONBlockOutput(id='/page/0/Text/2', block_type='Text', html='<p block-type=\"Text\">Getting Out Our Dreams II, LLC c/o Carroll, Guido &amp; Groffman, LLP 5 Columbus Circle 20th Floor New York, NY 10019 Attention: Michael Guido, Esq.</p>', polygon=[[69.75, 378.75886175659707], [443.91796875, 378.75886175659707], [443.91796875, 538.6987987396612], [69.75, 538.6987987396612]], bbox=[69.75, 378.75886175659707, 443.91796875, 538.6987987396612], children=None, section_hierarchy={2: '/page/0/SectionHeader/0'}, images={}), JSONBlockOutput(id='/page/0/ListItem/3', block_type='ListItem', html='<li block-type=\"ListItem\">Def Jam Recordings -w- Getting Out Our Dreams II, LLC fislo Kanye West I/ Amendment to Re: the P&amp;D Agreement (LPs 7 - 10)</li>', polygon=[[69.0, 567.2595017723513], [1171.0458984375, 565.4257581725088], [1171.0458984375, 619.9869535250099], [69.0, 619.9869535250099]], bbox=[69.0, 565.4257581725088, 1171.0458984375, 619.9869535250099], children=None, section_hierarchy={2: '/page/0/SectionHeader/0'}, images={}), JSONBlockOutput(id='/page/0/Text/4', block_type='Text', html='<p block-type=\"Text\">Dear Gentlepersons:</p>', polygon=[[69.0, 648.9870519889721], [294.732421875, 648.9870519889721], [294.732421875, 671.835614415124], [69.0, 671.835614415124]], bbox=[69.0, 648.9870519889721, 294.732421875, 671.835614415124], children=None, section_hierarchy={2: '/page/0/SectionHeader/0'}, images={}), JSONBlockOutput(id='/page/0/ListItem/5', block_type='ListItem', html='<li block-type=\"ListItem\">Reference is hereby made to the following agreements may have been amended and which agreements are in full force and effect as of the date hereof:</li>', polygon=[[63.37353515625, 698.6387357227255], [1175.291015625, 698.1583300512012], [1175.291015625, 751.366187475384], [63.37353515625, 751.366187475384]], bbox=[63.37353515625, 698.1583300512012, 1175.291015625, 751.366187475384], children=None, section_hierarchy={2: '/page/0/SectionHeader/0'}, images={}), JSONBlockOutput(id='/page/0/Text/6', block_type='Text', html='<p block-type=\"Text\">The exclusive recording agreement between Def Jam Recordings, a division of UMG Recordings, Inc. (as successor-in-interest to the Island Def Jam Music Group, as successor-in-interest to Roc-A-Fella Records, LLC [collectively, \"UMG\"]), and Rock The World, LLC (\"RTW\") f/s/o Kanye West (the \"Artist\"), dated as of April 13, 2005, (\"Recording Agreement\");</p>', polygon=[[148.27587890625, 776.8979913351714], [1181.35546875, 770.8987790468689], [1181.35546875, 884.5030031508468], [148.27587890625, 884.5030031508468]], bbox=[148.27587890625, 770.8987790468689, 1181.35546875, 884.5030031508468], children=None, section_hierarchy={2: '/page/0/SectionHeader/0'}, images={}), JSONBlockOutput(id='/page/0/Text/7', block_type='Text', html='<p block-type=\"Text\">The profit split acreement between UMG and RTW f/s/o Artist, dated as of May 4, 2012, which amendment to the Recording Agreement, among other things, sels forth the profit spit and reversion terms in connection with the sixth Album and seventh Album (\"Profit Split Agreement\");</p>', polygon=[[153.73388671875, 910.5646446681765], [1177.716796875, 910.5646446681765], [1177.716796875, 991.9351860968885], [153.73388671875, 991.9351860968885]], bbox=[153.73388671875, 910.5646446681765, 1177.716796875, 991.9351860968885], children=None, section_hierarchy={2: '/page/0/SectionHeader/0'}, images={}), JSONBlockOutput(id='/page/0/Text/8', block_type='Text', html='<p block-type=\"Text\">The assignment and assumption agreement between RTW and Artist, dated as of May 4, 2012 (including the exhibit, which exhibit, among other things, directs UMG to pay Artist and RTW directly in connection with the Recording Agreement) with respect to RTW\\'s assignment of its prospective rights under the Recording Agreement to Artist, dated as of May 4, 2012 (collectively, \"RTW Letter of Direction\"); and</p>', polygon=[[154.5, 1017.0905745372194], [1180.142578125, 1017.0905745372194], [1180.142578125, 1152.534216226861], [155.25, 1152.5986608901142]], bbox=[154.5, 1017.0905745372194, 1180.142578125, 1152.5986608901142], children=None, section_hierarchy={2: '/page/0/SectionHeader/0'}, images={}), JSONBlockOutput(id='/page/0/Text/9', block_type='Text', html='<p block-type=\"Text\">The exclusive pressing and distribution agreement between UMG and Getting Out Our Dreams II, L.C (\"Grantor\" or \"you\") with respect to the pressing and distribution of Artist\\'s eighth Album and ninth Album, dated as of May 7, 2012 (\"P&amp;D Agreement\").</p>', polygon=[[154.5, 1179.3373375344624], [1180.7490234375, 1178.8452146514376], [1180.7490234375, 1260.1860968885387], [154.6435546875, 1261.3343836155968]], bbox=[154.5, 1178.8452146514376, 1180.7490234375, 1261.3343836155968], children=None, section_hierarchy={2: '/page/0/SectionHeader/0'}, images={}), JSONBlockOutput(id='/page/0/Text/10', block_type='Text', html='<p block-type=\"Text\">The aforementioned agreements, as amended hereby, shall be collectively referred to herein as the \"Kanye Agreements\". All terms not spectically defined herein shall have the same meaning used in the P&amp;D Agreement and Recording Agreement, unless otherwise provided herein. If any of the terms contained herein (hereinafter, the \"P&amp;D Amendment) conflict with the terms of the Recording Agreement, the terms of the P&amp;D Amendment shall govern.</p>', polygon=[[67.5, 1285.8907296179598], [1183.1748046875, 1285.3312327688066], [1183.1748046875, 1421.4442201654194], [68.25, 1421.4442201654194]], bbox=[67.5, 1285.3312327688066, 1183.1748046875, 1421.4442201654194], children=None, section_hierarchy={2: '/page/0/SectionHeader/0'}, images={}), JSONBlockOutput(id='/page/0/Text/11', block_type='Text', html='<p block-type=\"Text\">For good and valuable consideration, the receipt of which each party hereby acknowledges, the parties agree to modify the Kanye Agreements as follows:</p>', polygon=[[67.5, 1447.3685506104766], [1181.35546875, 1447.3099645529737], [1181.35546875, 1502.732374950768], [68.25, 1502.732374950768]], bbox=[67.5, 1447.3099645529737, 1181.35546875, 1502.732374950768], children=None, section_hierarchy={2: '/page/0/SectionHeader/0'}, images={}), JSONBlockOutput(id='/page/0/Text/12', block_type='Text', html='<p block-type=\"Text\">Term / Product. Notwithstanding anything to the contrary contained in the Kanye Agreements 1. (including, without limitation, this P&amp;D Amendment):</p>', polygon=[[69.0, 1527.7779145332809], [1181.35546875, 1526.7995273729816], [1181.35546875, 1582.262948011028], [69.0, 1582.2922410397796]], bbox=[69.0, 1526.7995273729816, 1181.35546875, 1582.2922410397796], children=None, section_hierarchy={2: '/page/0/SectionHeader/0'}, images={}), JSONBlockOutput(id='/page/0/Text/13', block_type='Text', html='<p block-type=\"Text\">Grantor and Artist hereby acknowledge and agree that UMG timely and properly (a) exercised its option to extend the Term of the Recording Agreement for the sixth Option Pariod during which UMG is entitled to receive delivery of the seventh Album of the Minimum Recording Obligation (the</p>', polygon=[[67.5, 1608.187278456085], [1183.1748046875, 1607.788893265065], [1183.1748046875, 1690.7936195352502], [68.25, 1690.7936195352502]], bbox=[67.5, 1607.788893265065, 1183.1748046875, 1690.7936195352502], children=None, section_hierarchy={2: '/page/0/SectionHeader/0'}, images={}), JSONBlockOutput(id='/page/0/PageFooter/14', block_type='PageFooter', html='', polygon=[[647.25, 1760.2180976762506], [1180.142578125, 1760.2180976762506], [1180.142578125, 1781.3090783773139], [647.25, 1781.3090783773139]], bbox=[647.25, 1760.2180976762506, 1180.142578125, 1781.3090783773139], children=None, section_hierarchy={2: '/page/0/SectionHeader/0'}, images={}), JSONBlockOutput(id='/page/0/Text/15', block_type='Text', html='<p block-type=\"Text\"></p>', polygon=[[54.88330078125, 1801.9013452638835], [1168.013671875, 1801.9013452638835], [1168.013671875, 1894.6859153456085], [54.88330078125, 1894.6859153456085]], bbox=[54.88330078125, 1801.9013452638835, 1168.013671875, 1894.6859153456085], children=None, section_hierarchy={2: '/page/0/SectionHeader/0'}, images={})], section_hierarchy={2: '/page/0/SectionHeader/0'}, images=None), JSONBlockOutput(id='/page/1/Page/121', block_type='Page', html=\"<content-ref src='/page/1/PageHeader/4'></content-ref><content-ref src='/page/1/Text/0'></content-ref><content-ref src='/page/1/Text/1'></content-ref><content-ref src='/page/1/Text/2'></content-ref><content-ref src='/page/1/Text/3'></content-ref><content-ref src='/page/1/Text/5'></content-ref><content-ref src='/page/1/Table/6'></content-ref><content-ref src='/page/1/Text/7'></content-ref><content-ref src='/page/1/Text/8'></content-ref><content-ref src='/page/1/Text/9'></content-ref><content-ref src='/page/1/PageFooter/10'></content-ref><content-ref src='/page/1/Text/11'></content-ref>\", polygon=[[0.0, 0.0], [1242.0, 0.0], [1242.0, 1819.0], [0.0, 1819.0]], bbox=[0.0, 0.0, 1242.0, 1819.0], children=[JSONBlockOutput(id='/page/1/PageHeader/4', block_type='PageHeader', html='', polygon=[[607.5, 90.50246676628196], [630.703125, 90.50246676628196], [630.703125, 110.71175546166529], [607.5, 110.71175546166529]], bbox=[607.5, 90.50246676628196, 630.703125, 110.71175546166529], children=None, section_hierarchy={2: '/page/0/SectionHeader/0'}, images={}), JSONBlockOutput(id='/page/1/Text/0', block_type='Text', html='<p block-type=\"Text\">\"Seventh Album\"). The Seventh Album shall hereinafter be deemed the first Album of the P&amp;D Agreement (i.e., the Sixth Alburn shall be the final Album delivered to UMG in satisfaction of the Minimum Recording Obligation of the Recording Agreement, subject to the provisions of paragraph 7 below). Notwithstanding anything to the contrary contained in the Kanye Agreements (including, without limitation, this P&amp;D Amendment), in connection with the Seventh Album (and each of the other P&amp;D Albums), all of RTW\\'s, Grantor\\'s and/or Artist\\'s, as applicable, covenants, warranties, representations and grants of fights, including, without limitation, all representations and covenants pursuant to the Recording Agreement, and all of UMG\\'s rights in connection therewith, shall remain in full force and effect (including any payment obligations to RTW in connection with the Seventh Album) with respect to each of the P&amp;D Albums as if incorporated herein.</p>', polygon=[[78.0, 175.1837797235676], [1143.755859375, 173.95218466611706], [1143.755859375, 430.98504804719704], [78.0, 430.98504804719704]], bbox=[78.0, 173.95218466611706, 1143.755859375, 430.98504804719704], children=None, section_hierarchy={2: '/page/0/SectionHeader/0'}, images={}), JSONBlockOutput(id='/page/1/Text/1', block_type='Text', html='<p block-type=\"Text\">During the term of the P&amp;D Agreement (the P&amp;D Term\"), Grantor may, at its sole option, (b) deliver to UMG one (1) extra-contractual Album comprised of previously recorded, unreleased Master Recordings, featuring the performances of Artist, tentatively entitled the \"Lost Yeezus Tapes\" (collecively, the \"Lost Tapes\"). In the event that Grantor delivers the Lost Tapes to UMG, the Lost Tapes shall be deemed a P&amp;D Album (defined below) subject to the same financial terms set forth herein with respect to the Seventh Album (i.e., with respect to payments, the administration of Recording Costs, the applicable Distribution Fee and Licensing Fee, Third Party Marketing Costs, accountings, etc.). For the avoidance of doubt, Grantor shall not be permitted to release the Lost Tapes to any party other than UMG.</p>', polygon=[[77.25, 460.4203163643858], [1145.5751953125, 460.4203163643858], [1145.5751953125, 665.149197495878], [77.25, 665.149197495878]], bbox=[77.25, 460.4203163643858, 1145.5751953125, 665.149197495878], children=None, section_hierarchy={2: '/page/0/SectionHeader/0'}, images={}), JSONBlockOutput(id='/page/1/Text/2', block_type='Text', html='<p block-type=\"Text\">Grantor hereby grants to UMG one (1) additional separate option to extend the P&amp;D (c) Term for one (1) additional Contract Period (i.e., the tenth Album of the Minimum Recording Obligation \"Tenth Album\")). For the avoidance of doubt, following the Initial Period, UMG shall have a total of three (3) additional separate options for three (3) Albums (i.e., the Eighth Album, Ninth Album and Tenth Album).</p>', polygon=[[76.412109375, 689.7518098206925], [1148.0009765625, 689.7518098206925], [1148.0009765625, 820.6728539777412], [76.412109375, 820.6728539777412]], bbox=[76.412109375, 689.7518098206925, 1148.0009765625, 820.6728539777412], children=None, section_hierarchy={2: '/page/0/SectionHeader/0'}, images={}), JSONBlockOutput(id='/page/1/Text/3', block_type='Text', html='<p block-type=\"Text\">The following provisions shall replace paragraph 1(c) of the P&amp;D Agreement and are (d) incorporated herein:</p>', polygon=[[75.50244140625, 845.2754663025556], [1143.755859375, 845.2754663025556], [1143.755859375, 896.2380204039572], [75.50244140625, 896.2380204039572]], bbox=[75.50244140625, 845.2754663025556, 1143.755859375, 896.2380204039572], children=None, section_hierarchy={2: '/page/0/SectionHeader/0'}, images={}), JSONBlockOutput(id='/page/1/Text/5', block_type='Text', html='<p block-type=\"Text\">The Minimum P&amp;D Recording Obligation hereunder shall be as follows: \"(c)</p>', polygon=[[246.75, 921.9252344997875], [1041.873046875, 921.9252344997875], [1041.873046875, 948.0792392312449], [246.75, 948.0792392312449]], bbox=[246.75, 921.9252344997875, 1041.873046875, 948.0792392312449], children=None, section_hierarchy={2: '/page/0/SectionHeader/0'}, images={}), JSONBlockOutput(id='/page/1/Table/6', block_type='Table', html='<table><tbody><tr><th>Contract Period</th><th>Minimum P&D Recording Obligation</th></tr><tr><td>initial Period</td><td>the Seventh Album</td></tr><tr><td>First Option Period</td><td>the Eighth Album</td></tr><tr><td>Second Period</td><td>the Ninth Album</td></tr><tr><td>Third Option Period</td><td>the Tenth Album</td></tr></tbody></table>', polygon=[[229.8427734375, 975.3178457337181], [949.0869140625, 975.3178457337181], [949.0869140625, 1101.186567716921], [229.8427734375, 1101.186567716921]], bbox=[229.8427734375, 975.3178457337181, 949.0869140625, 1101.186567716921], children=[JSONBlockOutput(id='/page/1/TableCell/112', block_type='TableCell', html='<th>Contract Period</th>', polygon=[[229.8427734375, 975.3178457337181], [508.3414306640625, 975.3178457337181], [508.3414306640625, 998.3029605537938], [229.8427734375, 998.3029605537938]], bbox=[229.8427734375, 975.3178457337181, 508.3414306640625, 998.3029605537938], children=None, section_hierarchy={2: '/page/0/SectionHeader/0'}, images={}), JSONBlockOutput(id='/page/1/TableCell/113', block_type='TableCell', html='<th>Minimum P&amp;D Recording Obligation</th>', polygon=[[508.16583251953125, 975.3486053386964], [948.390380859375, 975.3486053386964], [948.390380859375, 998.3029605537938], [508.16583251953125, 998.3029605537938]], bbox=[508.16583251953125, 975.3486053386964, 948.390380859375, 998.3029605537938], children=None, section_hierarchy={2: '/page/0/SectionHeader/0'}, images={}), JSONBlockOutput(id='/page/1/TableCell/114', block_type='TableCell', html='<td>initial Period</td>', polygon=[[229.8427734375, 998.4183090724626], [508.3414306640625, 998.4183090724626], [508.3414306640625, 1024.010300414454], [229.8427734375, 1024.010300414454]], bbox=[229.8427734375, 998.4183090724626, 508.3414306640625, 1024.010300414454], children=None, section_hierarchy={2: '/page/0/SectionHeader/0'}, images={}), JSONBlockOutput(id='/page/1/TableCell/115', block_type='TableCell', html='<td>the Seventh Album</td>', polygon=[[508.16583251953125, 998.4183090724626], [948.390380859375, 998.4183090724626], [948.390380859375, 1024.010300414454], [508.16583251953125, 1024.010300414454]], bbox=[508.16583251953125, 998.4183090724626, 948.390380859375, 1024.010300414454], children=None, section_hierarchy={2: '/page/0/SectionHeader/0'}, images={}), JSONBlockOutput(id='/page/1/TableCell/116', block_type='TableCell', html='<td>First Option Period</td>', polygon=[[229.8427734375, 1023.8411225870731], [508.3414306640625, 1023.8411225870731], [508.3414306640625, 1048.9102006444323], [229.8427734375, 1048.9102006444323]], bbox=[229.8427734375, 1023.8411225870731, 508.3414306640625, 1048.9102006444323], children=None, section_hierarchy={2: '/page/0/SectionHeader/0'}, images={}), JSONBlockOutput(id='/page/1/TableCell/117', block_type='TableCell', html='<td>the Eighth Album</td>', polygon=[[508.16583251953125, 1023.8411225870731], [948.390380859375, 1023.8411225870731], [948.390380859375, 1048.9102006444323], [508.16583251953125, 1048.9102006444323]], bbox=[508.16583251953125, 1023.8411225870731, 948.390380859375, 1048.9102006444323], children=None, section_hierarchy={2: '/page/0/SectionHeader/0'}, images={}), JSONBlockOutput(id='/page/1/TableCell/118', block_type='TableCell', html='<td>Second Period</td>', polygon=[[229.8427734375, 1048.825611730742], [508.3414306640625, 1048.825611730742], [508.3414306640625, 1074.556021295136], [229.8427734375, 1074.556021295136]], bbox=[229.8427734375, 1048.825611730742, 508.3414306640625, 1074.556021295136], children=None, section_hierarchy={2: '/page/0/SectionHeader/0'}, images={}), JSONBlockOutput(id='/page/1/TableCell/119', block_type='TableCell', html='<td>the Ninth Album</td>', polygon=[[508.16583251953125, 1048.825611730742], [948.5659790039062, 1048.825611730742], [948.5659790039062, 1074.556021295136], [508.16583251953125, 1074.556021295136]], bbox=[508.16583251953125, 1048.825611730742, 948.5659790039062, 1074.556021295136], children=None, section_hierarchy={2: '/page/0/SectionHeader/0'}, images={}), JSONBlockOutput(id='/page/1/TableCell/120', block_type='TableCell', html='<td>Third Option Period</td>', polygon=[[229.8427734375, 1074.6175405050926], [508.3414306640625, 1074.3714636652658], [508.3414306640625, 1100.317190464508], [229.8427734375, 1100.4171591806878]], bbox=[229.8427734375, 1074.3714636652658, 508.3414306640625, 1100.4171591806878], children=None, section_hierarchy={2: '/page/0/SectionHeader/0'}, images={}), JSONBlockOutput(id='/page/1/TableCell/121', block_type='TableCell', html='<td>the Tenth Album</td>', polygon=[[508.16583251953125, 1074.6175405050926], [948.5659790039062, 1074.3714636652658], [948.5659790039062, 1100.317190464508], [508.16583251953125, 1100.4786783906445]], bbox=[508.16583251953125, 1074.3714636652658, 948.5659790039062, 1100.4786783906445], children=None, section_hierarchy={2: '/page/0/SectionHeader/0'}, images={})], section_hierarchy={2: '/page/0/SectionHeader/0'}, images=None), JSONBlockOutput(id='/page/1/Text/7', block_type='Text', html='<p block-type=\"Text\">The Seventh Album, Eighth Album, Ninth Album shall hereinatter be collectively referred to as the \"P&amp;D Albums\"; each, a \"P&amp;D Album\". The P&amp;D Albums shall be deemed \"Subject Materials\" (as such term is defined in paragraph 1(d) below).8</p>', polygon=[[238.3330078125, 1129.5235051267518], [1143.1494140625, 1129.5235051267518], [1143.1494140625, 1205.9673362788542], [238.3330078125, 1205.9673362788542]], bbox=[238.3330078125, 1129.5235051267518, 1143.1494140625, 1205.9673362788542], children=None, section_hierarchy={2: '/page/0/SectionHeader/0'}, images={}), JSONBlockOutput(id='/page/1/Text/8', block_type='Text', html='<p block-type=\"Text\">Administration of Recording Costs. Notwithstanding anything to the contrary contained in the 2. Kanye Agreements (including, without limitation, this P&amp;D Amendment):</p>', polygon=[[76.5, 1232.3272780554412], [1142.54296875, 1232.3272780554412], [1142.54296875, 1283.7291645197856], [76.5, 1283.7291645197856]], bbox=[76.5, 1232.3272780554412, 1142.54296875, 1283.7291645197856], children=None, section_hierarchy={2: '/page/0/SectionHeader/0'}, images={}), JSONBlockOutput(id='/page/1/Text/9', block_type='Text', html='<p block-type=\"Text\">As of the date hereof, UMG\\'s obligation to fund any and all Recording Funds, Advances, Recording Costs (Including, but not limited to, the Recording Funds set forth in paragraph 3(b) of the P&amp;D Agreement) to Grantor pursuant to the P&amp;D Agreement is hereby deemed terminated. Notwithstanding the foregoing, commencing as of the date hereof, Grantor shall prospectively fund any and all Recording Costs (including, but not limited to, clearance costs, equipment rentals, performer fees, union related costs, A&amp;R related travel expenses, producer advances, side-artists advances, musician fees, sample fees, etc.) in connection with Artist\\'s recording of the P&amp;D Albums hereunder (including, without limitation, the Seventh Album), it being understood that any such costs paid or committed to be paid by UMG in connection with the P&amp;D Albums (including, without limitation, the Execution Advance set forth in paragraph 3(a) of the P&amp;D Agreement, and all Advances and/or Recording Costs, paid by UMG in connection with the Seventh Album), shall be deducted from \"Net Billings\" (defined in paragraph 3(d) below) or Net Licensing Billings, as applicable, otherwise payable to Grantor hereunder.</p>', polygon=[[77.25, 1311.407103385202], [1145.25, 1309.8899422918385], [1145.25, 1618.9397574453833], [77.25, 1618.9397574453833]], bbox=[77.25, 1309.8899422918385, 1145.25, 1618.9397574453833], children=None, section_hierarchy={2: '/page/0/SectionHeader/0'}, images={}), JSONBlockOutput(id='/page/1/PageFooter/10', block_type='PageFooter', html='', polygon=[[636.0, 1689.232935516282], [1148.607421875, 1689.232935516282], [1148.607421875, 1710.3208889375517], [636.0, 1710.3208889375517]], bbox=[636.0, 1689.232935516282, 1148.607421875, 1710.3208889375517], children=None, section_hierarchy={2: '/page/0/SectionHeader/0'}, images={}), JSONBlockOutput(id='/page/1/Text/11', block_type='Text', html='<p block-type=\"Text\"></p>', polygon=[[64.8896484375, 1800.2145142708548], [1178.3232421875, 1800.2145142708548], [1178.3232421875, 1817.4198679346146], [64.8896484375, 1817.4198679346146]], bbox=[64.8896484375, 1800.2145142708548, 1178.3232421875, 1817.4198679346146], children=None, section_hierarchy={2: '/page/0/SectionHeader/0'}, images={})], section_hierarchy={2: '/page/0/SectionHeader/0'}, images=None), JSONBlockOutput(id='/page/2/Page/134', block_type='Page', html=\"<content-ref src='/page/2/PageHeader/6'></content-ref><content-ref src='/page/2/Text/0'></content-ref><content-ref src='/page/2/Text/1'></content-ref><content-ref src='/page/2/Text/2'></content-ref><content-ref src='/page/2/Text/3'></content-ref><content-ref src='/page/2/Text/4'></content-ref><content-ref src='/page/2/Text/5'></content-ref><content-ref src='/page/2/Text/7'></content-ref><content-ref src='/page/2/Text/8'></content-ref><content-ref src='/page/2/Text/9'></content-ref><content-ref src='/page/2/Text/10'></content-ref><content-ref src='/page/2/PageFooter/11'></content-ref><content-ref src='/page/2/Handwriting/12'></content-ref>\", polygon=[[0.0, 0.0], [1242.0, 0.0], [1242.0, 1789.0], [0.0, 1789.0]], bbox=[0.0, 0.0, 1242.0, 1789.0], children=[JSONBlockOutput(id='/page/2/PageHeader/6', block_type='PageHeader', html='', polygon=[[608.87109375, 72.76408730288662], [631.3095703125, 72.76408730288662], [631.3095703125, 95.4994323167697], [608.87109375, 95.4994323167697]], bbox=[608.87109375, 72.76408730288662, 631.3095703125, 95.4994323167697], children=None, section_hierarchy={2: '/page/0/SectionHeader/0'}, images={}), JSONBlockOutput(id='/page/2/Text/0', block_type='Text', html='<p block-type=\"Text\">Distribution Fee. Notwithstanding anything to the contrary contained in the Kanye Agreenents 3. (including, without limitation, this P&amp;D Amendment):</p>', polygon=[[79.5, 180.6746016803751], [1148.607421875, 180.6746016803751], [1148.607421875, 233.06474453845348], [79.5, 233.06474453845348]], bbox=[79.5, 180.6746016803751, 1148.607421875, 233.06474453845348], children=None, section_hierarchy={2: '/page/0/SectionHeader/0'}, images={}), JSONBlockOutput(id='/page/2/Text/1', block_type='Text', html='<p block-type=\"Text\">Seventh Album / Distribution Fee. Solely in connection with the exploitation of (a) (1) the Seventh Album in the United States, UMG shall retain a Distribution Fee of twenty-one percent (21%) of Net Billings, reducing prospectively to seventeen percent (17%) of Net Billings upon reaching sales in excess of one million (1,000,000) units in the United States as determined by Soundscan (or its equivalent if UMG ceases to use the Soundscan service). Notwithstanding the foregoing, Grantor\\'s share of Net Proceeds otherwise payable to Grantor and/or Artist in connection with the Seventh Album shall be paid to Grantor, Artist\\'s designee) and RTW pursuant to the terms of the RTW Letter of Direction, subject to the terms and conditions herein.</p>', polygon=[[78.0, 259.6442300136211], [1149.8203125, 259.6442300136211], [1149.8203125, 467.4474800922045], [78.0, 467.4474800922045]], bbox=[78.0, 259.6442300136211, 1149.8203125, 467.4474800922045], children=None, section_hierarchy={2: '/page/0/SectionHeader/0'}, images={}), JSONBlockOutput(id='/page/2/Text/2', block_type='Text', html='<p block-type=\"Text\">Seventh Album / Ex-U.S. Rate. For the avoidance of doubt, the Basic Rate shall (ii) be twenty-five percent (25%) in connection with UMG\\'s sales, distribution and other exploitation of the Seventh Album outside of the United States (through affiliates or other third parties).</p>', polygon=[[78.0, 492.4893093828583], [1148.607421875, 492.4893093828583], [1148.607421875, 569.8114489469824], [78.0, 569.8114489469824]], bbox=[78.0, 492.4893093828583, 1148.607421875, 569.8114489469824], children=None, section_hierarchy={2: '/page/0/SectionHeader/0'}, images={}), JSONBlockOutput(id='/page/2/Text/3', block_type='Text', html='<p block-type=\"Text\">Eighth Album Distribution Fee. Solely in connection with the exploitation of the (b) (i) Eighth Album in the United States, UMG shall retain a Distribution Fee of seventeen percent (17%) of Net Billings.</p>', polygon=[[78.0, 594.8532782376362], [1149.8203125, 594.8532782376362], [1149.8203125, 673.9327391554904], [78.0, 673.9327391554904]], bbox=[78.0, 594.8532782376362, 1149.8203125, 673.9327391554904], children=None, section_hierarchy={2: '/page/0/SectionHeader/0'}, images={}), JSONBlockOutput(id='/page/2/Text/4', block_type='Text', html='<p block-type=\"Text\">Eighth Album / Ex-US Rate. For the avoidance of doubt, the Basic Rate shall be (11) twenty-five percent (25%) in connection with UMG\\'s sales, distribution and other exploitation of the Eighth Album outside of the United States (through affiliates or other third parties).</p>', polygon=[[71.560546875, 698.095907769279], [1149.8203125, 698.095907769279], [1149.8203125, 775.4180473334031], [71.560546875, 775.4180473334031]], bbox=[71.560546875, 698.095907769279, 1149.8203125, 775.4180473334031], children=None, section_hierarchy={2: '/page/0/SectionHeader/0'}, images={}), JSONBlockOutput(id='/page/2/Text/5', block_type='Text', html='<p block-type=\"Text\">Ninth &amp; Tenth Album / Distribution Fee. Solely in connection with the exploitation (1) (C) of the Nirth, and Tenth Albums in the United States, UMG shall relain a Distribution Fee of seventeen percent (17%) of Net Billings.</p>', polygon=[[76.10888671875, 801.338537300922], [1148.607421875, 801.338537300922], [1148.607421875, 879.5393375419111], [76.10888671875, 879.5393375419111]], bbox=[76.10888671875, 801.338537300922, 1148.607421875, 879.5393375419111], children=None, section_hierarchy={2: '/page/0/SectionHeader/0'}, images={}), JSONBlockOutput(id='/page/2/Text/7', block_type='Text', html='<p block-type=\"Text\">Ninth &amp; Tenth Album / Ex-U.S. Rate. For the avoidance of doubt, the Basic Rate (ii) shall be twenty-six percent (26%) in connection with UMG\\'s sales, distribution and other exploitation of each the Ninth Album and Tenth Album outside of the United States (through affiliates or other third parties).</p>', polygon=[[76.5, 904.8775775202761], [1148.607421875, 904.8775775202761], [1148.607421875, 983.1158581307627], [76.5, 983.1158581307627]], bbox=[76.5, 904.8775775202761, 1148.607421875, 983.1158581307627], children=None, section_hierarchy={2: '/page/0/SectionHeader/0'}, images={}), JSONBlockOutput(id='/page/2/Text/8', block_type='Text', html='<p block-type=\"Text\">\"Net Billings\" shall mean, for all purposes of the P&amp;D Agreement, gross billings in (d) connection with the exploitation of the applicable P&amp;D Albums hereunder, less returns and reserves against anticipated returns and credits earned hereunder in the United States. In establishing reserves, UMG will take into consideration the sale and returns history of previous Records shipped hereunder as well as that of the Record concerned, SoundScan reports (or similar reports) and reports from UMG\\'s distributor regarding to what extent the Record concerned is \"selling through\" at refail outlets. For the avoidance of doubt, in calculating Net Bilings, UMG does not take reserves against anticipated returns for Records sold in the form of Electronic Transmissions. Notwithstanding the foregoing, Net Billings shall also include any reserves UMG liquidates. The foregoing definition of Net Billings shall replace Section 1,01. of Exhibit B of the P&amp;D Agreement.</p>', polygon=[[76.5, 1008.5168399730851], [1149.8203125, 1008.5168399730851], [1149.8203125, 1264.6976824853966], [76.5, 1264.6976824853966]], bbox=[76.5, 1008.5168399730851, 1149.8203125, 1264.6976824853966], children=None, section_hierarchy={2: '/page/0/SectionHeader/0'}, images={}), JSONBlockOutput(id='/page/2/Text/9', block_type='Text', html='<p block-type=\"Text\">Recoupment. Notwithstanding anything to the contrary contained in the Kanye Agreements 4. (including, without limitation, this P&amp;D Amendment):</p>', polygon=[[76.5, 1291.1841763722625], [1146.181640625, 1291.1841763722625], [1146.181640625, 1344.808471372721], [76.5, 1344.808471372721]], bbox=[76.5, 1291.1841763722625, 1146.181640625, 1344.808471372721], children=None, section_hierarchy={2: '/page/0/SectionHeader/0'}, images={}), JSONBlockOutput(id='/page/2/Text/10', block_type='Text', html='<p block-type=\"Text\">Artist\\'s royally and net profit account pursuant to the Recording Agreement (collectively, (a) the \"Recording Agreement Royalty Account\") and the RTW Account (as defined in paragraph 4[b] below) which is a portion of the Recording Agreement Royalty Account, shall at all times remain uncrossed from Grantor\\'s share of Net Proceeds pursuant to the P&amp;D Agreement (and this P&amp;D Amendment) (the \"P&amp;D Account\"), except as follows: solely in connection with the P&amp;D Albums and following recoupment of any and all costs paid or incurred by UMG on a P&amp;D Album-by-P&amp;D Album basis (including, without limitation any marketing costs and/or Third Party Marketing Costs [as defined in paragraph 6 below]), UMG shall apply the next Two Million Dollars ($2,000,000) of Grantor\\'s share of Net Proceeds otherwise payable per P&amp;D Album to the unrecouped Recording Agreement Royalty Account (inclusive of the RTW Account),</p>', polygon=[[77.25, 1370.4265556239523], [1147.39453125, 1370.4265556239523], [1147.39453125, 1603.1603379741198], [77.25, 1603.1603379741198]], bbox=[77.25, 1370.4265556239523, 1147.39453125, 1603.1603379741198], children=None, section_hierarchy={2: '/page/0/SectionHeader/0'}, images={}), JSONBlockOutput(id='/page/2/PageFooter/11', block_type='PageFooter', html='', polygon=[[636.0, 1673.0673136427336], [1148.607421875, 1673.0673136427336], [1148.607421875, 1694.7775545336074], [636.0, 1694.7775545336074]], bbox=[636.0, 1673.0673136427336, 1148.607421875, 1694.7775545336074], children=None, section_hierarchy={2: '/page/0/SectionHeader/0'}, images={}), JSONBlockOutput(id='/page/2/Handwriting/12', block_type='Handwriting', html='<p></p>', polygon=[[1195.91015625, 1678.2777714565434], [1243.212890625, 1678.2777714565434], [1243.212890625, 1785.0921566396426], [1195.91015625, 1785.0921566396426]], bbox=[1195.91015625, 1678.2777714565434, 1243.212890625, 1785.0921566396426], children=None, section_hierarchy={2: '/page/0/SectionHeader/0'}, images={})], section_hierarchy={2: '/page/0/SectionHeader/0'}, images=None), JSONBlockOutput(id='/page/3/Page/127', block_type='Page', html=\"<content-ref src='/page/3/PageHeader/3'></content-ref><content-ref src='/page/3/Text/0'></content-ref><content-ref src='/page/3/Text/1'></content-ref><content-ref src='/page/3/Text/2'></content-ref><content-ref src='/page/3/Text/4'></content-ref><content-ref src='/page/3/Text/5'></content-ref><content-ref src='/page/3/Text/6'></content-ref><content-ref src='/page/3/PageFooter/7'></content-ref><content-ref src='/page/3/PageFooter/8'></content-ref><content-ref src='/page/3/Text/9'></content-ref>\", polygon=[[0.0, 0.0], [1242.0, 0.0], [1242.0, 1827.0], [0.0, 1827.0]], bbox=[0.0, 0.0, 1242.0, 1827.0], children=[JSONBlockOutput(id='/page/3/PageHeader/3', block_type='PageHeader', html='', polygon=[[612.20654296875, 96.56982421875], [636.767578125, 96.56982421875], [636.767578125, 114.697265625], [612.20654296875, 114.697265625]], bbox=[612.20654296875, 96.56982421875, 636.767578125, 114.697265625], children=None, section_hierarchy={2: '/page/0/SectionHeader/0'}, images={}), JSONBlockOutput(id='/page/3/Text/0', block_type='Text', html='<p block-type=\"Text\">subject to an aggregate cap of Six Million Dollars ($6,000,000) across all P&amp;D Albums. After the aforementioned Two Million Dollar ($2,000,000) application of recoupment per P&amp;D Album set forth in the immediately preceding sentence is applied to the unrecouped Recording Agreement Royally Account (inclusive of the RTW Account), any and all future monies in connection with Grantor\\'s Share of Net Proceeds payable for the applicable P&amp;D Album shall be applied to the P&amp;D Account only. Notwithstanding the generality of the foregoing, for the purpose of this paragraph 4(a): (i) all costs incurred by UMG in connection with the Seventh Album shall be included in costs when determining recoupment in connection with the Seventh Album herein; (ii) one-half (1/2) of the Execution Advance (Le., $1,500,000) shall be included in costs when determining recoupment of costs in connection with the Eighth Album herein; and (iii) the balance of the Execution Advance (i.e., $1,500,000) shall be instuded when determining recoupment of costs in connection with the Ninth Album.</p>', polygon=[[81.0, 179.40673828125], [1154.0654296875, 179.40673828125], [1154.0654296875, 462.744140625], [81.75, 462.744140625]], bbox=[81.0, 179.40673828125, 1154.0654296875, 462.744140625], children=None, section_hierarchy={2: '/page/0/SectionHeader/0'}, images={}), JSONBlockOutput(id='/page/3/Text/1', block_type='Text', html='<p block-type=\"Text\">For the avoidance of doubt, that portion of royalties, net profits, and/or Grantor\\'s share of (b) Net Proceeds paid into the Recording Agreement Royalty Account by Grantor as set forth in paragraph 4(a) above, and pursuant to the RTW Letter of Direction (as the same may be amended from time to time), shall constitute the RTW account (the \"RTW Account\"). For the further avoidance of doubt pursuant to the RTW Letter of Direction, the RTW Account shall not be deemed payable until such time as the Recording Agreement Royalty Account (of which the RTW Account is a portion of) is in a fully recouped position. No royalties accruing pursuant to the Recording Agreement shall be paid through to Artist until such time as the Record Agreement Royalty Account is in a fully recouped position, subject further to the terms and conditions of paragraph 4(a) above.</p>', polygon=[[80.25, 491.25], [1157.09765625, 491.25], [1157.09765625, 720.703125], [80.25, 720.703125]], bbox=[80.25, 491.25, 1157.09765625, 720.703125], children=None, section_hierarchy={2: '/page/0/SectionHeader/0'}, images={}), JSONBlockOutput(id='/page/3/Text/2', block_type='Text', html='<p block-type=\"Text\">Timely Delivery of Seventh Album. Notwithstanding anything to the contrary contained in the 5. Kanye Agreements (including, without limitation, this P&amp;D Amendment), Grantor shall be obligated to Deliver the Master Recordings comprising the Seventh Album to UMG within a reasonable time for such Seventh Album to be commercially released by UMG in 2015; such delivery date may only be extended by mutual approval of the parties hereto.</p>', polygon=[[80.25, 747.94921875], [1153.458984375, 747.94921875], [1153.458984375, 874.51171875], [80.25, 874.51171875]], bbox=[80.25, 747.94921875, 1153.458984375, 874.51171875], children=None, section_hierarchy={2: '/page/0/SectionHeader/0'}, images={}), JSONBlockOutput(id='/page/3/Text/4', block_type='Text', html='<p block-type=\"Text\">Notwithstanding anything to the contrary contained in the Kanye Agreements 6. Marketing. (including, without limitation, this P&amp;D Amendment), solely in connection with its commercial release of the P&amp;D Albums in the United States, UMG will advance or incur all costs to third parties in connection with marketing, promotion, publicity, and advertising, including without limitation, the cost of promotional Records and Videos that are part of the marketing plan approved in writing by UMG for the P&amp;D Album concerned (collectively, the \"Third Party Marketing Costs\"); provided, however, that UMG shall be required to incur Third Party Marketing Costs up to, but not in excess of, an amount equal to twenty-five percent (25%) . of the amount of Net Billings that UMG reasonably projects (in UMG\\'s sole reasonable good faith judgment, based on UMG\\'s projected sales less returns and discounts of the P&amp;D Album concerned, and without the deduction of any reserves) will be earned in connection with its distribution of the P&amp;D Album concerned. Notwithstanding anything to the contrary set forth herein, all Third Party Marketing Costs hereunder shall be deemed Advances pursuant to the P&amp;D Agreement and deducted from Net Licensing Billings, as applicable, in the computation of Grantor\\'s share of Net Billings otherwise payable to Grantor hereunder.</p>', polygon=[[80.25, 904.5], [1159.5234375, 904.5], [1159.5234375, 1237.939453125], [80.25, 1237.939453125]], bbox=[80.25, 904.5, 1159.5234375, 1237.939453125], children=None, section_hierarchy={2: '/page/0/SectionHeader/0'}, images={}), JSONBlockOutput(id='/page/3/Text/5', block_type='Text', html='<p block-type=\"Text\">Exclusivity. Notwithstanding anything to the contracy contained in the Kanye Agreements 7. (including, without limitation, this P&amp;D Amendment), during the P&amp;D Term and the period one (1) year immediately following the expiration of the P&amp;D Term (the \"Exclusivity Period\"), Grantor shall continue to furnish the recording services of Artist exclusively to UMG and neither Grantor nor Artist, or any Person deriving any rights from Grantor or Artist, shall at any time, do, or authorize any Person to do, anything inconsistent with, or which might diminish or impair, any of UMG\\'s rights of exclusivity hereunder (including, but not limited to the rights and restrictions set forth in section 10 of the Recording Agreement). For the avoidance of doubt, the provisions of paragraph 2 of the P&amp;D Agreement shall apply hereunder.</p>', polygon=[[80.25, 1264.74609375], [1156.4912109375, 1264.74609375], [1156.4912109375, 1497.65625], [80.25, 1497.65625]], bbox=[80.25, 1264.74609375, 1156.4912109375, 1497.65625], children=None, section_hierarchy={2: '/page/0/SectionHeader/0'}, images={}), JSONBlockOutput(id='/page/3/Text/6', block_type='Text', html='<p block-type=\"Text\">Letters of Direction. UMG will honor letters of direction from Grantor (in a format approved by 8. UMG) to pay third party record royalties and mechanical royalies to producers, remixers and sample licensors due in connection with P&amp;D Album sales and exploitations. For the avoidance of doubt, UMG shall not honor any letter of direction from Grantor to pay advances to third parties.</p>', polygon=[[80.25, 1522.265625], [1159.5234375, 1522.265625], [1159.5234375, 1628.61328125], [80.25, 1628.61328125]], bbox=[80.25, 1522.265625, 1159.5234375, 1628.61328125], children=None, section_hierarchy={2: '/page/0/SectionHeader/0'}, images={}), JSONBlockOutput(id='/page/3/PageFooter/7', block_type='PageFooter', html='', polygon=[[640.5, 1693.65234375], [1158.9169921875, 1693.65234375], [1158.9169921875, 1715.625], [640.5, 1715.625]], bbox=[640.5, 1693.65234375, 1158.9169921875, 1715.625], children=None, section_hierarchy={2: '/page/0/SectionHeader/0'}, images={}), JSONBlockOutput(id='/page/3/PageFooter/8', block_type='PageFooter', html='', polygon=[[1198.9423828125, 1693.65234375], [1244.42578125, 1693.65234375], [1244.42578125, 1793.84765625], [1198.9423828125, 1793.84765625]], bbox=[1198.9423828125, 1693.65234375, 1244.42578125, 1793.84765625], children=None, section_hierarchy={2: '/page/0/SectionHeader/0'}, images={}), JSONBlockOutput(id='/page/3/Text/9', block_type='Text', html='<p block-type=\"Text\"></p>', polygon=[[64.8896484375, 1800.982177734375], [1178.3232421875, 1800.982177734375], [1178.3232421875, 1824.8115234375], [64.8896484375, 1824.8115234375]], bbox=[64.8896484375, 1800.982177734375, 1178.3232421875, 1824.8115234375], children=None, section_hierarchy={2: '/page/0/SectionHeader/0'}, images={})], section_hierarchy={2: '/page/0/SectionHeader/0'}, images=None), JSONBlockOutput(id='/page/4/Page/106', block_type='Page', html=\"<content-ref src='/page/4/PageHeader/4'></content-ref><content-ref src='/page/4/Text/0'></content-ref><content-ref src='/page/4/SectionHeader/1'></content-ref><content-ref src='/page/4/Text/2'></content-ref><content-ref src='/page/4/Text/3'></content-ref><content-ref src='/page/4/Text/5'></content-ref><content-ref src='/page/4/Text/6'></content-ref><content-ref src='/page/4/Handwriting/7'></content-ref><content-ref src='/page/4/Text/8'></content-ref><content-ref src='/page/4/Text/10'></content-ref><content-ref src='/page/4/Text/9'></content-ref>\", polygon=[[0.0, 0.0], [1242.0, 0.0], [1242.0, 1844.0], [0.0, 1844.0]], bbox=[0.0, 0.0, 1242.0, 1844.0], children=[JSONBlockOutput(id='/page/4/PageHeader/4', block_type='PageHeader', html='', polygon=[[607.5, 110.89194826403009], [630.0966796875, 110.89194826403009], [630.0966796875, 130.17034045851972], [607.5, 130.17034045851972]], bbox=[607.5, 110.89194826403009, 630.0966796875, 130.17034045851972], children=None, section_hierarchy={2: '/page/0/SectionHeader/0'}, images={}), JSONBlockOutput(id='/page/4/Text/0', block_type='Text', html='<p block-type=\"Text\">Audit. UMG acknowledges its receipt of Grantor\\'s intent to audit the Recording Agreement 9. accounting and royalty statements rendered for the periods commencing January 1, 2010 through December 31, 2013 (the \"Audit\"). UMG hereby agrees to a prospective extension of the contractual time to commence action, and a prospective tolling of the statute of limitations (whether contractual, statutory, or otherwise) if applicable, with respect to Grantor\\'s claims relating to those royalty statements rendered by UMG in connection with the Audit. By providing this tolling agreement, UMG is not agreeing that any of the issues raised in the Audit are valid or that UMG owes any additional amounts in connection with the Audit, the royally statements or otherwise. This tolling agreement will expire, unless further extended, on March 31, 2015, and does not extend or revive any limitations period (whether contractual, statutory, or otherwise) that have already expired as of June 12, 2014, and does not affect or limit any claim or defense that may already exist, including, without limitation, those based upon principles of estoppel, waiver and laches and/or relating to a previously limitations period that may have already expired as of June 12, 2014.</p>', polygon=[[76.5, 217.49980937372916], [1153.458984375, 217.49980937372916], [1153.458984375, 555.3934526230175], [76.5, 555.3934526230175]], bbox=[76.5, 217.49980937372916, 1153.458984375, 555.3934526230175], children=None, section_hierarchy={2: '/page/0/SectionHeader/0'}, images={}), JSONBlockOutput(id='/page/4/SectionHeader/1', block_type='SectionHeader', html='<h2>10. Miscellaneous.</h2>', polygon=[[78.0, 581.7570658804392], [327.48046875, 581.7570658804392], [327.48046875, 606.3631049206995], [78.0, 606.3631049206995]], bbox=[78.0, 581.7570658804392, 327.48046875, 606.3631049206995], children=None, section_hierarchy={2: '/page/4/SectionHeader/1'}, images={}), JSONBlockOutput(id='/page/4/Text/2', block_type='Text', html='<p block-type=\"Text\">The parties hereto, or constitute either party the agent of the other, and neither party shall (a) become liable for any representation, act or omission of the other which is contrary to the provisions of this paragraph 10(a).</p>', polygon=[[76.5, 630.5297504066695], [1152.8525390625, 630.5297504066695], [1152.8525390625, 711.3781643960959], [76.5, 711.3781643960959]], bbox=[76.5, 630.5297504066695, 1152.8525390625, 711.3781643960959], children=None, section_hierarchy={2: '/page/4/SectionHeader/1'}, images={}), JSONBlockOutput(id='/page/4/Text/3', block_type='Text', html='<p block-type=\"Text\">This writing sets forth the entire understanding between the parties hereto with respect to (b) the subject matter hereof, and no modification, amendment or waiver of this document shall be binding upon either party hereto unless confirmed by a written instrument signed by an authorized signatory of the party sought to be bound. No waiver of any provision of, or waiver of a default under this P&amp;D Amendment or any failure to exercise rights hereunder shall prejudice the rights of either party thereafter, nor shall it form precedent for the future.</p>', polygon=[[75.75, 734.2266292191948], [1151.033203125, 734.2266292191948], [1151.033203125, 888.0143732208215], [76.5, 888.629524196828]], bbox=[75.75, 734.2266292191948, 1151.033203125, 888.629524196828], children=None, section_hierarchy={2: '/page/4/SectionHeader/1'}, images={}), JSONBlockOutput(id='/page/4/Text/5', block_type='Text', html='<p block-type=\"Text\">Except as expressly or by necessary implication modified hereby, the P&amp;D Agreement (C) and all provisions thereby ratified and affirmed as being in full force and effect, without limitation or exception.</p>', polygon=[[75.8056640625, 916.6848026382676], [1149.2138671875, 916.3757625050833], [1149.2138671875, 992.5900391419276], [75.8056640625, 992.5900391419276]], bbox=[75.8056640625, 916.3757625050833, 1149.2138671875, 992.5900391419276], children=None, section_hierarchy={2: '/page/4/SectionHeader/1'}, images={}), JSONBlockOutput(id='/page/4/Text/6', block_type='Text', html='<p block-type=\"Text\">This document may be signed in counterparts, and may be executed and delivered by (d) facsimile, electronic mail (as a scanned attachment or pdf. file), which when taken together will have the same effect as if signed it its original form by all the parties.</p>', polygon=[[75.8056640625, 1019.8617324115494], [1148.607421875, 1019.8617324115494], [1148.607421875, 1094.9687372915819], [75.8056640625, 1094.9687372915819]], bbox=[75.8056640625, 1019.8617324115494, 1148.607421875, 1094.9687372915819], children=None, section_hierarchy={2: '/page/4/SectionHeader/1'}, images={}), JSONBlockOutput(id='/page/4/Handwriting/7', block_type='Handwriting', html='<p>Very truly yours, DEF JAM RECORDINGS, A DIVISION OF UMG RECORDINGS, I BV Authorized Representative AGREED AND ACCEPTED: GETTING OUT OUR DEAMS II, LLC. By: An Authorized Representative Kanye West</p>', polygon=[[72.47021484375, 1120.453563440423], [1136.478515625, 1120.453563440423], [1136.478515625, 1618.7258540056935], [72.47021484375, 1618.7258540056935]], bbox=[72.47021484375, 1120.453563440423, 1136.478515625, 1618.7258540056935], children=None, section_hierarchy={2: '/page/4/SectionHeader/1'}, images={}), JSONBlockOutput(id='/page/4/Text/8', block_type='Text', html='<p block-type=\"Text\">Kanye West PD Amendment LPs 7-10 (12 02 14) v4 nw f clean</p>', polygon=[[634.9482421875, 1707.5185034566898], [1144.3623046875, 1707.5185034566898], [1144.3623046875, 1727.2560619154128], [634.9482421875, 1727.2560619154128]], bbox=[634.9482421875, 1707.5185034566898, 1144.3623046875, 1727.2560619154128], children=None, section_hierarchy={2: '/page/4/SectionHeader/1'}, images={}), JSONBlockOutput(id='/page/4/Text/10', block_type='Text', html='<p block-type=\"Text\">110</p>', polygon=[[1202.25, 1799.006100040667], [1240.5, 1799.006100040667], [1240.5, 1808.0048800325335], [1202.25, 1808.0048800325335]], bbox=[1202.25, 1799.006100040667, 1240.5, 1808.0048800325335], children=None, section_hierarchy={2: '/page/4/SectionHeader/1'}, images={}), JSONBlockOutput(id='/page/4/Text/9', block_type='Text', html='<p block-type=\"Text\"></p>', polygon=[[106.734375, 1800.5121214479973], [1171.65234375, 1800.5121214479973], [1171.65234375, 1838.03742946828], [106.734375, 1838.03742946828]], bbox=[106.734375, 1800.5121214479973, 1171.65234375, 1838.03742946828], children=None, section_hierarchy={2: '/page/4/SectionHeader/1'}, images={})], section_hierarchy={2: '/page/4/SectionHeader/1'}, images=None)], block_type='Document', metadata={'table_of_contents': [{'title': 'DEF JAM RECORDING,\\nA DIVISION OF UMG RECORDINGS, INC.\\n1755 BROADWAY\\nNEW YORK, NEW YORK 10019', 'heading_level': None, 'page_id': 0, 'polygon': [[396.0, 188.50064001575424], [854.4814453125, 188.50064001575424], [854.4814453125, 295.27372981488776], [396.0, 295.27372981488776]]}, {'title': '10.\\nMiscellaneous.', 'heading_level': None, 'page_id': 4, 'polygon': [[78.0, 581.7570658804392], [327.48046875, 581.7570658804392], [327.48046875, 606.3631049206995], [78.0, 606.3631049206995]]}], 'page_stats': [{'page_id': 0, 'text_extraction_method': 'surya', 'block_counts': [('Line', 47), ('Span', 47), ('Text', 12), ('ListItem', 2), ('SectionHeader', 1), ('PageFooter', 1)], 'block_metadata': {'llm_request_count': 0, 'llm_error_count': 0, 'llm_tokens_used': 0}}, {'page_id': 1, 'text_extraction_method': 'surya', 'block_counts': [('Line', 50), ('Span', 50), ('TableCell', 10), ('Text', 9), ('PageHeader', 1), ('Table', 1), ('PageFooter', 1)], 'block_metadata': {'llm_request_count': 0, 'llm_error_count': 0, 'llm_tokens_used': 0}}, {'page_id': 2, 'text_extraction_method': 'surya', 'block_counts': [('Line', 61), ('Span', 61), ('Text', 10), ('PageHeader', 1), ('PageFooter', 1), ('Handwriting', 1)], 'block_metadata': {'llm_request_count': 0, 'llm_error_count': 0, 'llm_tokens_used': 0}}, {'page_id': 3, 'text_extraction_method': 'surya', 'block_counts': [('Line', 59), ('Span', 59), ('Text', 7), ('PageFooter', 2), ('PageHeader', 1)], 'block_metadata': {'llm_request_count': 0, 'llm_error_count': 0, 'llm_tokens_used': 0}}, {'page_id': 4, 'text_extraction_method': 'surya', 'block_counts': [('Line', 48), ('Span', 48), ('Text', 8), ('SectionHeader', 1), ('PageHeader', 1), ('Handwriting', 1)], 'block_metadata': {'llm_request_count': 0, 'llm_error_count': 0, 'llm_tokens_used': 0}}], 'debug_data_path': 'debug_data/Celebrity Contract_3'})\n"
     ]
    }
   ],
   "source": [
    "from pprint import pprint\n",
    "pprint(rendered)"
   ]
  },
  {
   "cell_type": "code",
   "execution_count": null,
   "metadata": {},
   "outputs": [
    {
     "name": "stdout",
     "output_type": "stream",
     "text": [
      "Loaded layout model s3://layout/2025_02_18 on device cuda with dtype torch.float16\n",
      "Loaded texify model s3://texify/2025_02_18 on device cuda with dtype torch.float16\n",
      "Loaded recognition model s3://text_recognition/2025_02_18 on device cuda with dtype torch.float16\n",
      "Loaded table recognition model s3://table_recognition/2025_02_18 on device cuda with dtype torch.float16\n",
      "Loaded detection model s3://text_detection/2025_02_18 on device cuda with dtype torch.float16\n",
      "Loaded detection model s3://inline_math_detection/2025_02_18 on device cuda with dtype torch.float16\n",
      "Converting PDF: /home/eyhyd/contracts_v3/Sample Agreements/Celebrity Contract_3.pdf\n"
     ]
    },
    {
     "name": "stderr",
     "output_type": "stream",
     "text": [
      "Recognizing layout: 100%|██████████| 3/3 [00:01<00:00,  2.67it/s]\n",
      "Running OCR Error Detection: 100%|██████████| 2/2 [00:00<00:00, 265.73it/s]\n",
      "Detecting bboxes: 100%|██████████| 5/5 [00:01<00:00,  3.95it/s]\n",
      "Recognizing Text: 100%|██████████| 9/9 [00:07<00:00,  1.18it/s]\n",
      "Detecting bboxes: 100%|██████████| 1/1 [00:00<00:00,  8.51it/s]\n",
      "Recognizing Text: 100%|██████████| 1/1 [00:00<00:00,  3.28it/s]\n",
      "Recognizing tables: 100%|██████████| 1/1 [00:00<00:00,  7.01it/s]\n"
     ]
    },
    {
     "name": "stdout",
     "output_type": "stream",
     "text": [
      "Extracted 2 sections\n",
      "Results saved to sections_content.json and sections_content.txt\n"
     ]
    }
   ],
   "source": []
  },
  {
   "cell_type": "code",
   "execution_count": null,
   "metadata": {},
   "outputs": [
    {
     "data": {
      "text/plain": [
       "\"<content-ref src='/page/0/SectionHeader/0'></content-ref><content-ref src='/page/0/Text/1'></content-ref><content-ref src='/page/0/Text/2'></content-ref><content-ref src='/page/0/ListItem/3'></content-ref><content-ref src='/page/0/Text/4'></content-ref><content-ref src='/page/0/ListItem/5'></content-ref><content-ref src='/page/0/Text/6'></content-ref><content-ref src='/page/0/Text/7'></content-ref><content-ref src='/page/0/Text/8'></content-ref><content-ref src='/page/0/Text/9'></content-ref><content-ref src='/page/0/Text/10'></content-ref><content-ref src='/page/0/Text/11'></content-ref><content-ref src='/page/0/Text/12'></content-ref><content-ref src='/page/0/Text/13'></content-ref><content-ref src='/page/0/PageFooter/14'></content-ref><content-ref src='/page/0/Text/15'></content-ref>\""
      ]
     },
     "execution_count": 32,
     "metadata": {},
     "output_type": "execute_result"
    }
   ],
   "source": []
  },
  {
   "cell_type": "code",
   "execution_count": 37,
   "metadata": {},
   "outputs": [
    {
     "name": "stdout",
     "output_type": "stream",
     "text": [
      "Torch CUDA available:  True\n"
     ]
    }
   ],
   "source": [
    "import gc\n",
    "import os\n",
    "from pathlib import Path\n",
    "import torch\n",
    "from typing import Dict, Any, List\n",
    "import logging\n",
    "from backend.backend.Doc_Processor.processors.base_processor import BaseProcessor\n",
    "from tqdm.auto import tqdm\n",
    "\n",
    "# Import marker libraries\n",
    "from marker.converters.pdf import PdfConverter\n",
    "from marker.models import create_model_dict\n",
    "from marker.output import text_from_rendered\n",
    "\n",
    "import warnings\n",
    "warnings.filterwarnings(\"ignore\")\n",
    "\n",
    "print(\"Torch CUDA available: \", torch.cuda.is_available())\n",
    "\n",
    "logger = logging.getLogger(__name__)\n",
    "\n",
    "\n",
    "class PDFProcessor(BaseProcessor):\n",
    "    def __init__(self, config: Dict[str, Any] = None):\n",
    "        super().__init__(config)\n",
    "        self.max_workers = min(32, (os.cpu_count() or 1) + 4)\n",
    "        self.chunk_size = config.get(\"chunk_size\", 10)  # Process pages in chunks\n",
    "        self.save_processed_files = config.get(\"save_processed_files\", True)\n",
    "        self.save_processed_files_dir = config.get(\"save_processed_files_dir\", \"processed_files\")\n",
    "        \n",
    "        # Initialize marker PDF converter\n",
    "        self.converter = PdfConverter(\n",
    "            artifact_dict=create_model_dict(),\n",
    "        )\n",
    "\n",
    "    def _validate_config(self) -> None:\n",
    "        \"\"\"Validate processor configuration with extended checks.\"\"\"\n",
    "        required_keys = [\"language\"]\n",
    "        if not all(key in self.config for key in required_keys):\n",
    "            raise ValueError(f\"Missing required config keys: {required_keys}\")\n",
    "\n",
    "    def process(self, file_path: Path) -> Dict[str, Any]:\n",
    "        try:\n",
    "            print(\"Processing PDF file:\", file_path)\n",
    "            logger.info(f\"Processing PDF file: {file_path}\")\n",
    "            \n",
    "            # Use marker to convert PDF\n",
    "            rendered = self.converter(str(file_path))\n",
    "            text, _,images = text_from_rendered(rendered)\n",
    "            \n",
    "            # Create page content structure similar to original format\n",
    "            pages_content = []\n",
    "            \n",
    "            # Split text by page (assuming double newlines separate pages)\n",
    "            text_pages = text.split(\"\\n\\n\")\n",
    "            \n",
    "            for page_num, page_text in enumerate(text_pages):\n",
    "                try:\n",
    "                    page_content = self._create_page_content(page_text.strip(), \"marker\", page_num)\n",
    "                    pages_content.append(page_content)\n",
    "                except Exception as e:\n",
    "                    logger.error(f\"Page {page_num} failed: {str(e)}\")\n",
    "                    pages_content.append(self._create_error_page(page_num, str(e)))\n",
    "            \n",
    "            # Save content if configured\n",
    "            if self.save_processed_files:\n",
    "                self._save_content({\"content\": pages_content}, self.save_processed_files_dir, file_path.stem)\n",
    "            \n",
    "            return {\"content\": pages_content, \"metadata\": self._get_metadata(file_path, len(text_pages)), \"images\": images}\n",
    "        except Exception as e:\n",
    "            logger.error(f\"PDF processing failed: {str(e)}\")\n",
    "            return {\"content\": [], \"metadata\": self._get_metadata(file_path, 0), \"error\": str(e)}\n",
    "        finally:\n",
    "            gc.collect()\n",
    "                \n",
    "    def _save_content(self, content: Dict[str, Any], output_dir: str, file_name: str) -> None:\n",
    "        # Save the text into a text file\n",
    "        output_dir_path = Path(output_dir)\n",
    "        output_dir_path.mkdir(parents=True, exist_ok=True)\n",
    "        \n",
    "        text_file = output_dir_path / f\"{file_name}.txt\"\n",
    "        logger.info(f\"Saving text to: {text_file}\")\n",
    "        \n",
    "        with open(text_file, \"w\") as f:\n",
    "            for page in content[\"content\"]:\n",
    "                f.write(page[\"text\"])\n",
    "                f.write(\"\\n\\n\")\n",
    "        \n",
    "        print(f\"Text saved to: {text_file}\")\n",
    "\n",
    "    def _create_page_content(self, text: str, source: str, page_num: int) -> Dict[str, Any]:\n",
    "        return {\n",
    "            \"text\": text,\n",
    "            \"source\": source,\n",
    "            \"page\": page_num,\n",
    "        }\n",
    "\n",
    "    def _create_error_page(self, page_num: int, error: str) -> Dict[str, Any]:\n",
    "        return {\"text\": \"\", \"error\": error, \"page\": page_num}\n",
    "        \n",
    "    def _get_metadata(self, file_path: Path, page_count: int) -> Dict[str, Any]:\n",
    "        return {\n",
    "            \"pages\": page_count,\n",
    "            \"format\": \"PDF\",\n",
    "            \"filename\": file_path.name,\n",
    "            \"file_path\": str(file_path.absolute()),\n",
    "        }"
   ]
  },
  {
   "cell_type": "code",
   "execution_count": 38,
   "metadata": {},
   "outputs": [
    {
     "name": "stdout",
     "output_type": "stream",
     "text": [
      "Loaded layout model s3://layout/2025_02_18 on device cuda with dtype torch.float16\n",
      "Loaded texify model s3://texify/2025_02_18 on device cuda with dtype torch.float16\n",
      "Loaded recognition model s3://text_recognition/2025_02_18 on device cuda with dtype torch.float16\n",
      "Loaded table recognition model s3://table_recognition/2025_02_18 on device cuda with dtype torch.float16\n",
      "Loaded detection model s3://text_detection/2025_02_18 on device cuda with dtype torch.float16\n",
      "Loaded detection model s3://inline_math_detection/2025_02_18 on device cuda with dtype torch.float16\n"
     ]
    },
    {
     "name": "stderr",
     "output_type": "stream",
     "text": [
      "INFO:__main__:Processing PDF file: /home/eyhyd/contracts_v3/Sample Agreements/Celebrity Contract_3.pdf\n"
     ]
    },
    {
     "name": "stdout",
     "output_type": "stream",
     "text": [
      "Processing PDF file: /home/eyhyd/contracts_v3/Sample Agreements/Celebrity Contract_3.pdf\n"
     ]
    },
    {
     "name": "stderr",
     "output_type": "stream",
     "text": [
      "Recognizing layout: 100%|██████████| 3/3 [00:00<00:00,  3.95it/s]\n",
      "Running OCR Error Detection: 100%|██████████| 2/2 [00:00<00:00, 276.89it/s]\n",
      "Detecting bboxes: 100%|██████████| 5/5 [00:01<00:00,  3.94it/s]\n",
      "Recognizing Text: 100%|██████████| 9/9 [00:07<00:00,  1.19it/s]\n",
      "Detecting bboxes: 100%|██████████| 1/1 [00:00<00:00,  8.54it/s]\n",
      "Recognizing Text: 100%|██████████| 1/1 [00:00<00:00,  3.35it/s]\n",
      "Recognizing tables: 100%|██████████| 1/1 [00:00<00:00,  6.96it/s]\n",
      "INFO:__main__:Saving text to: processed_files/Celebrity Contract_3.txt\n"
     ]
    },
    {
     "name": "stdout",
     "output_type": "stream",
     "text": [
      "Text saved to: processed_files/Celebrity Contract_3.txt\n"
     ]
    }
   ],
   "source": [
    "pdf_path = Path(r\"/home/eyhyd/contracts_v3/Sample Agreements/Celebrity Contract_3.pdf\")\n",
    "processor = PDFProcessor(config={\"language\": \"en\"})\n",
    "output = processor.process(pdf_path)"
   ]
  },
  {
   "cell_type": "code",
   "execution_count": 36,
   "metadata": {},
   "outputs": [
    {
     "data": {
      "text/plain": [
       "{'content': [],\n",
       " 'metadata': {'pages': 0,\n",
       "  'format': 'PDF',\n",
       "  'filename': 'Celebrity Contract_3.pdf',\n",
       "  'file_path': '/home/eyhyd/contracts_v3/Sample Agreements/Celebrity Contract_3.pdf'},\n",
       " 'error': 'too many values to unpack (expected 2)'}"
      ]
     },
     "execution_count": 36,
     "metadata": {},
     "output_type": "execute_result"
    }
   ],
   "source": [
    "output"
   ]
  },
  {
   "cell_type": "code",
   "execution_count": null,
   "metadata": {},
   "outputs": [],
   "source": []
  }
 ],
 "metadata": {
  "kernelspec": {
   "display_name": ".venv",
   "language": "python",
   "name": "python3"
  },
  "language_info": {
   "codemirror_mode": {
    "name": "ipython",
    "version": 3
   },
   "file_extension": ".py",
   "mimetype": "text/x-python",
   "name": "python",
   "nbconvert_exporter": "python",
   "pygments_lexer": "ipython3",
   "version": "3.12.3"
  }
 },
 "nbformat": 4,
 "nbformat_minor": 2
}
